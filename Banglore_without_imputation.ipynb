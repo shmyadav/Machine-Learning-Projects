{
  "nbformat": 4,
  "nbformat_minor": 0,
  "metadata": {
    "colab": {
      "name": "Banglore_without_imputation.ipynb",
      "provenance": [],
      "collapsed_sections": [],
      "machine_shape": "hm"
    },
    "kernelspec": {
      "name": "python3",
      "display_name": "Python 3"
    }
  },
  "cells": [
    {
      "cell_type": "markdown",
      "metadata": {
        "id": "cf2PDBYrnaZm",
        "colab_type": "text"
      },
      "source": [
        "# Features\n",
        "Area_type – describes the area<br>\n",
        "Availability – when it can be possessed or when it is ready(categorical and time-series)<br>\n",
        "Location – where it is located in Bengaluru<br>\n",
        "Price – Value of the property in lakhs(INR)<br>\n",
        "Size – in BHK or Bedroom (1-10 or more)<br>\n",
        "Society – to which society it belongs<br>\n",
        "Total_sqft – size of the property in sq.ft<br>\n",
        "Bath – No. of bathrooms<br>\n",
        "Balcony – No. of the balcony<br>\n"
      ]
    },
    {
      "cell_type": "code",
      "metadata": {
        "id": "KhOOUi_5GhD3",
        "colab_type": "code",
        "colab": {}
      },
      "source": [
        "import pandas as pd\n",
        "import matplotlib.pyplot as plt\n",
        "import seaborn as sns\n",
        "import numpy as np"
      ],
      "execution_count": 0,
      "outputs": []
    },
    {
      "cell_type": "code",
      "metadata": {
        "id": "IdXf6K_hG1x4",
        "colab_type": "code",
        "outputId": "5bbb6412-2099-4d08-b9db-27fe8f382265",
        "colab": {
          "base_uri": "https://localhost:8080/",
          "height": 406
        }
      },
      "source": [
        "train = pd.read_csv(\"Predicting-House-Prices-In-Bengaluru-Train-Data.csv\")\n",
        "train\n",
        "#impute bhk by tsqft\n",
        "#bath by bhk\n",
        "#balcony by bhk"
      ],
      "execution_count": 0,
      "outputs": [
        {
          "output_type": "execute_result",
          "data": {
            "text/html": [
              "<div>\n",
              "<style scoped>\n",
              "    .dataframe tbody tr th:only-of-type {\n",
              "        vertical-align: middle;\n",
              "    }\n",
              "\n",
              "    .dataframe tbody tr th {\n",
              "        vertical-align: top;\n",
              "    }\n",
              "\n",
              "    .dataframe thead th {\n",
              "        text-align: right;\n",
              "    }\n",
              "</style>\n",
              "<table border=\"1\" class=\"dataframe\">\n",
              "  <thead>\n",
              "    <tr style=\"text-align: right;\">\n",
              "      <th></th>\n",
              "      <th>area_type</th>\n",
              "      <th>availability</th>\n",
              "      <th>location</th>\n",
              "      <th>size</th>\n",
              "      <th>society</th>\n",
              "      <th>total_sqft</th>\n",
              "      <th>bath</th>\n",
              "      <th>balcony</th>\n",
              "      <th>price</th>\n",
              "    </tr>\n",
              "  </thead>\n",
              "  <tbody>\n",
              "    <tr>\n",
              "      <th>0</th>\n",
              "      <td>Super built-up  Area</td>\n",
              "      <td>19-Dec</td>\n",
              "      <td>Electronic City Phase II</td>\n",
              "      <td>2 BHK</td>\n",
              "      <td>Coomee</td>\n",
              "      <td>1056</td>\n",
              "      <td>2.0</td>\n",
              "      <td>1.0</td>\n",
              "      <td>39.07</td>\n",
              "    </tr>\n",
              "    <tr>\n",
              "      <th>1</th>\n",
              "      <td>Plot  Area</td>\n",
              "      <td>Ready To Move</td>\n",
              "      <td>Chikka Tirupathi</td>\n",
              "      <td>4 Bedroom</td>\n",
              "      <td>Theanmp</td>\n",
              "      <td>2600</td>\n",
              "      <td>5.0</td>\n",
              "      <td>3.0</td>\n",
              "      <td>120.00</td>\n",
              "    </tr>\n",
              "    <tr>\n",
              "      <th>2</th>\n",
              "      <td>Built-up  Area</td>\n",
              "      <td>Ready To Move</td>\n",
              "      <td>Uttarahalli</td>\n",
              "      <td>3 BHK</td>\n",
              "      <td>NaN</td>\n",
              "      <td>1440</td>\n",
              "      <td>2.0</td>\n",
              "      <td>3.0</td>\n",
              "      <td>62.00</td>\n",
              "    </tr>\n",
              "    <tr>\n",
              "      <th>3</th>\n",
              "      <td>Super built-up  Area</td>\n",
              "      <td>Ready To Move</td>\n",
              "      <td>Lingadheeranahalli</td>\n",
              "      <td>3 BHK</td>\n",
              "      <td>Soiewre</td>\n",
              "      <td>1521</td>\n",
              "      <td>3.0</td>\n",
              "      <td>1.0</td>\n",
              "      <td>95.00</td>\n",
              "    </tr>\n",
              "    <tr>\n",
              "      <th>4</th>\n",
              "      <td>Super built-up  Area</td>\n",
              "      <td>Ready To Move</td>\n",
              "      <td>Kothanur</td>\n",
              "      <td>2 BHK</td>\n",
              "      <td>NaN</td>\n",
              "      <td>1200</td>\n",
              "      <td>2.0</td>\n",
              "      <td>1.0</td>\n",
              "      <td>51.00</td>\n",
              "    </tr>\n",
              "    <tr>\n",
              "      <th>...</th>\n",
              "      <td>...</td>\n",
              "      <td>...</td>\n",
              "      <td>...</td>\n",
              "      <td>...</td>\n",
              "      <td>...</td>\n",
              "      <td>...</td>\n",
              "      <td>...</td>\n",
              "      <td>...</td>\n",
              "      <td>...</td>\n",
              "    </tr>\n",
              "    <tr>\n",
              "      <th>13315</th>\n",
              "      <td>Built-up  Area</td>\n",
              "      <td>Ready To Move</td>\n",
              "      <td>Whitefield</td>\n",
              "      <td>5 Bedroom</td>\n",
              "      <td>ArsiaEx</td>\n",
              "      <td>3453</td>\n",
              "      <td>4.0</td>\n",
              "      <td>0.0</td>\n",
              "      <td>231.00</td>\n",
              "    </tr>\n",
              "    <tr>\n",
              "      <th>13316</th>\n",
              "      <td>Super built-up  Area</td>\n",
              "      <td>Ready To Move</td>\n",
              "      <td>Richards Town</td>\n",
              "      <td>4 BHK</td>\n",
              "      <td>NaN</td>\n",
              "      <td>3600</td>\n",
              "      <td>5.0</td>\n",
              "      <td>NaN</td>\n",
              "      <td>400.00</td>\n",
              "    </tr>\n",
              "    <tr>\n",
              "      <th>13317</th>\n",
              "      <td>Built-up  Area</td>\n",
              "      <td>Ready To Move</td>\n",
              "      <td>Raja Rajeshwari Nagar</td>\n",
              "      <td>2 BHK</td>\n",
              "      <td>Mahla T</td>\n",
              "      <td>1141</td>\n",
              "      <td>2.0</td>\n",
              "      <td>1.0</td>\n",
              "      <td>60.00</td>\n",
              "    </tr>\n",
              "    <tr>\n",
              "      <th>13318</th>\n",
              "      <td>Super built-up  Area</td>\n",
              "      <td>18-Jun</td>\n",
              "      <td>Padmanabhanagar</td>\n",
              "      <td>4 BHK</td>\n",
              "      <td>SollyCl</td>\n",
              "      <td>4689</td>\n",
              "      <td>4.0</td>\n",
              "      <td>1.0</td>\n",
              "      <td>488.00</td>\n",
              "    </tr>\n",
              "    <tr>\n",
              "      <th>13319</th>\n",
              "      <td>Super built-up  Area</td>\n",
              "      <td>Ready To Move</td>\n",
              "      <td>Doddathoguru</td>\n",
              "      <td>1 BHK</td>\n",
              "      <td>NaN</td>\n",
              "      <td>550</td>\n",
              "      <td>1.0</td>\n",
              "      <td>1.0</td>\n",
              "      <td>17.00</td>\n",
              "    </tr>\n",
              "  </tbody>\n",
              "</table>\n",
              "<p>13320 rows × 9 columns</p>\n",
              "</div>"
            ],
            "text/plain": [
              "                  area_type   availability  ... balcony   price\n",
              "0      Super built-up  Area         19-Dec  ...     1.0   39.07\n",
              "1                Plot  Area  Ready To Move  ...     3.0  120.00\n",
              "2            Built-up  Area  Ready To Move  ...     3.0   62.00\n",
              "3      Super built-up  Area  Ready To Move  ...     1.0   95.00\n",
              "4      Super built-up  Area  Ready To Move  ...     1.0   51.00\n",
              "...                     ...            ...  ...     ...     ...\n",
              "13315        Built-up  Area  Ready To Move  ...     0.0  231.00\n",
              "13316  Super built-up  Area  Ready To Move  ...     NaN  400.00\n",
              "13317        Built-up  Area  Ready To Move  ...     1.0   60.00\n",
              "13318  Super built-up  Area         18-Jun  ...     1.0  488.00\n",
              "13319  Super built-up  Area  Ready To Move  ...     1.0   17.00\n",
              "\n",
              "[13320 rows x 9 columns]"
            ]
          },
          "metadata": {
            "tags": []
          },
          "execution_count": 3
        }
      ]
    },
    {
      "cell_type": "code",
      "metadata": {
        "id": "4e5Y5ISNHtIn",
        "colab_type": "code",
        "outputId": "f8387b35-0780-405c-9879-7eba7d61c118",
        "colab": {
          "base_uri": "https://localhost:8080/",
          "height": 406
        }
      },
      "source": [
        "test = pd.read_csv(\"Predicting-House-Prices-In-Bengaluru-Test-Data.csv\")\n",
        "test"
      ],
      "execution_count": 0,
      "outputs": [
        {
          "output_type": "execute_result",
          "data": {
            "text/html": [
              "<div>\n",
              "<style scoped>\n",
              "    .dataframe tbody tr th:only-of-type {\n",
              "        vertical-align: middle;\n",
              "    }\n",
              "\n",
              "    .dataframe tbody tr th {\n",
              "        vertical-align: top;\n",
              "    }\n",
              "\n",
              "    .dataframe thead th {\n",
              "        text-align: right;\n",
              "    }\n",
              "</style>\n",
              "<table border=\"1\" class=\"dataframe\">\n",
              "  <thead>\n",
              "    <tr style=\"text-align: right;\">\n",
              "      <th></th>\n",
              "      <th>area_type</th>\n",
              "      <th>availability</th>\n",
              "      <th>location</th>\n",
              "      <th>size</th>\n",
              "      <th>society</th>\n",
              "      <th>total_sqft</th>\n",
              "      <th>bath</th>\n",
              "      <th>balcony</th>\n",
              "      <th>price</th>\n",
              "    </tr>\n",
              "  </thead>\n",
              "  <tbody>\n",
              "    <tr>\n",
              "      <th>0</th>\n",
              "      <td>Super built-up  Area</td>\n",
              "      <td>Ready To Move</td>\n",
              "      <td>Brookefield</td>\n",
              "      <td>2 BHK</td>\n",
              "      <td>Roeekbl</td>\n",
              "      <td>1225</td>\n",
              "      <td>2.0</td>\n",
              "      <td>2.0</td>\n",
              "      <td>NaN</td>\n",
              "    </tr>\n",
              "    <tr>\n",
              "      <th>1</th>\n",
              "      <td>Plot  Area</td>\n",
              "      <td>Ready To Move</td>\n",
              "      <td>Akshaya Nagar</td>\n",
              "      <td>9 Bedroom</td>\n",
              "      <td>NaN</td>\n",
              "      <td>2400</td>\n",
              "      <td>9.0</td>\n",
              "      <td>2.0</td>\n",
              "      <td>NaN</td>\n",
              "    </tr>\n",
              "    <tr>\n",
              "      <th>2</th>\n",
              "      <td>Plot  Area</td>\n",
              "      <td>18-Apr</td>\n",
              "      <td>Hennur Road</td>\n",
              "      <td>4 Bedroom</td>\n",
              "      <td>Saandtt</td>\n",
              "      <td>1650</td>\n",
              "      <td>5.0</td>\n",
              "      <td>2.0</td>\n",
              "      <td>NaN</td>\n",
              "    </tr>\n",
              "    <tr>\n",
              "      <th>3</th>\n",
              "      <td>Super built-up  Area</td>\n",
              "      <td>Ready To Move</td>\n",
              "      <td>Kodichikkanahalli</td>\n",
              "      <td>3 BHK</td>\n",
              "      <td>Winerri</td>\n",
              "      <td>1322</td>\n",
              "      <td>3.0</td>\n",
              "      <td>1.0</td>\n",
              "      <td>NaN</td>\n",
              "    </tr>\n",
              "    <tr>\n",
              "      <th>4</th>\n",
              "      <td>Super built-up  Area</td>\n",
              "      <td>Ready To Move</td>\n",
              "      <td>Konanakunte</td>\n",
              "      <td>2 BHK</td>\n",
              "      <td>AmageSa</td>\n",
              "      <td>1161</td>\n",
              "      <td>2.0</td>\n",
              "      <td>1.0</td>\n",
              "      <td>NaN</td>\n",
              "    </tr>\n",
              "    <tr>\n",
              "      <th>...</th>\n",
              "      <td>...</td>\n",
              "      <td>...</td>\n",
              "      <td>...</td>\n",
              "      <td>...</td>\n",
              "      <td>...</td>\n",
              "      <td>...</td>\n",
              "      <td>...</td>\n",
              "      <td>...</td>\n",
              "      <td>...</td>\n",
              "    </tr>\n",
              "    <tr>\n",
              "      <th>1475</th>\n",
              "      <td>Super built-up  Area</td>\n",
              "      <td>Ready To Move</td>\n",
              "      <td>Vittasandra</td>\n",
              "      <td>2 BHK</td>\n",
              "      <td>Prlla C</td>\n",
              "      <td>1246</td>\n",
              "      <td>2.0</td>\n",
              "      <td>1.0</td>\n",
              "      <td>NaN</td>\n",
              "    </tr>\n",
              "    <tr>\n",
              "      <th>1476</th>\n",
              "      <td>Super built-up  Area</td>\n",
              "      <td>Ready To Move</td>\n",
              "      <td>Gottigere</td>\n",
              "      <td>3 BHK</td>\n",
              "      <td>NaN</td>\n",
              "      <td>1660</td>\n",
              "      <td>3.0</td>\n",
              "      <td>2.0</td>\n",
              "      <td>NaN</td>\n",
              "    </tr>\n",
              "    <tr>\n",
              "      <th>1477</th>\n",
              "      <td>Super built-up  Area</td>\n",
              "      <td>Ready To Move</td>\n",
              "      <td>Channasandra</td>\n",
              "      <td>2 BHK</td>\n",
              "      <td>Unm 2El</td>\n",
              "      <td>1216</td>\n",
              "      <td>2.0</td>\n",
              "      <td>2.0</td>\n",
              "      <td>NaN</td>\n",
              "    </tr>\n",
              "    <tr>\n",
              "      <th>1478</th>\n",
              "      <td>Built-up  Area</td>\n",
              "      <td>18-Feb</td>\n",
              "      <td>Tumkur Road</td>\n",
              "      <td>2 BHK</td>\n",
              "      <td>Sahtsva</td>\n",
              "      <td>996</td>\n",
              "      <td>2.0</td>\n",
              "      <td>1.0</td>\n",
              "      <td>NaN</td>\n",
              "    </tr>\n",
              "    <tr>\n",
              "      <th>1479</th>\n",
              "      <td>Built-up  Area</td>\n",
              "      <td>Ready To Move</td>\n",
              "      <td>7th Phase JP Nagar</td>\n",
              "      <td>2 BHK</td>\n",
              "      <td>MaicaRS</td>\n",
              "      <td>1150</td>\n",
              "      <td>2.0</td>\n",
              "      <td>2.0</td>\n",
              "      <td>NaN</td>\n",
              "    </tr>\n",
              "  </tbody>\n",
              "</table>\n",
              "<p>1480 rows × 9 columns</p>\n",
              "</div>"
            ],
            "text/plain": [
              "                 area_type   availability  ... balcony price\n",
              "0     Super built-up  Area  Ready To Move  ...     2.0   NaN\n",
              "1               Plot  Area  Ready To Move  ...     2.0   NaN\n",
              "2               Plot  Area         18-Apr  ...     2.0   NaN\n",
              "3     Super built-up  Area  Ready To Move  ...     1.0   NaN\n",
              "4     Super built-up  Area  Ready To Move  ...     1.0   NaN\n",
              "...                    ...            ...  ...     ...   ...\n",
              "1475  Super built-up  Area  Ready To Move  ...     1.0   NaN\n",
              "1476  Super built-up  Area  Ready To Move  ...     2.0   NaN\n",
              "1477  Super built-up  Area  Ready To Move  ...     2.0   NaN\n",
              "1478        Built-up  Area         18-Feb  ...     1.0   NaN\n",
              "1479        Built-up  Area  Ready To Move  ...     2.0   NaN\n",
              "\n",
              "[1480 rows x 9 columns]"
            ]
          },
          "metadata": {
            "tags": []
          },
          "execution_count": 4
        }
      ]
    },
    {
      "cell_type": "code",
      "metadata": {
        "id": "QbnswufwCdjM",
        "colab_type": "code",
        "outputId": "4a6e7d19-703c-496e-8255-9b5c8d94fb07",
        "colab": {
          "base_uri": "https://localhost:8080/",
          "height": 406
        }
      },
      "source": [
        "#total of 13320 rows and 9 columns\n",
        "train"
      ],
      "execution_count": 0,
      "outputs": [
        {
          "output_type": "execute_result",
          "data": {
            "text/html": [
              "<div>\n",
              "<style scoped>\n",
              "    .dataframe tbody tr th:only-of-type {\n",
              "        vertical-align: middle;\n",
              "    }\n",
              "\n",
              "    .dataframe tbody tr th {\n",
              "        vertical-align: top;\n",
              "    }\n",
              "\n",
              "    .dataframe thead th {\n",
              "        text-align: right;\n",
              "    }\n",
              "</style>\n",
              "<table border=\"1\" class=\"dataframe\">\n",
              "  <thead>\n",
              "    <tr style=\"text-align: right;\">\n",
              "      <th></th>\n",
              "      <th>area_type</th>\n",
              "      <th>availability</th>\n",
              "      <th>location</th>\n",
              "      <th>size</th>\n",
              "      <th>society</th>\n",
              "      <th>total_sqft</th>\n",
              "      <th>bath</th>\n",
              "      <th>balcony</th>\n",
              "      <th>price</th>\n",
              "    </tr>\n",
              "  </thead>\n",
              "  <tbody>\n",
              "    <tr>\n",
              "      <th>0</th>\n",
              "      <td>Super built-up  Area</td>\n",
              "      <td>19-Dec</td>\n",
              "      <td>Electronic City Phase II</td>\n",
              "      <td>2 BHK</td>\n",
              "      <td>Coomee</td>\n",
              "      <td>1056</td>\n",
              "      <td>2.0</td>\n",
              "      <td>1.0</td>\n",
              "      <td>39.07</td>\n",
              "    </tr>\n",
              "    <tr>\n",
              "      <th>1</th>\n",
              "      <td>Plot  Area</td>\n",
              "      <td>Ready To Move</td>\n",
              "      <td>Chikka Tirupathi</td>\n",
              "      <td>4 Bedroom</td>\n",
              "      <td>Theanmp</td>\n",
              "      <td>2600</td>\n",
              "      <td>5.0</td>\n",
              "      <td>3.0</td>\n",
              "      <td>120.00</td>\n",
              "    </tr>\n",
              "    <tr>\n",
              "      <th>2</th>\n",
              "      <td>Built-up  Area</td>\n",
              "      <td>Ready To Move</td>\n",
              "      <td>Uttarahalli</td>\n",
              "      <td>3 BHK</td>\n",
              "      <td>NaN</td>\n",
              "      <td>1440</td>\n",
              "      <td>2.0</td>\n",
              "      <td>3.0</td>\n",
              "      <td>62.00</td>\n",
              "    </tr>\n",
              "    <tr>\n",
              "      <th>3</th>\n",
              "      <td>Super built-up  Area</td>\n",
              "      <td>Ready To Move</td>\n",
              "      <td>Lingadheeranahalli</td>\n",
              "      <td>3 BHK</td>\n",
              "      <td>Soiewre</td>\n",
              "      <td>1521</td>\n",
              "      <td>3.0</td>\n",
              "      <td>1.0</td>\n",
              "      <td>95.00</td>\n",
              "    </tr>\n",
              "    <tr>\n",
              "      <th>4</th>\n",
              "      <td>Super built-up  Area</td>\n",
              "      <td>Ready To Move</td>\n",
              "      <td>Kothanur</td>\n",
              "      <td>2 BHK</td>\n",
              "      <td>NaN</td>\n",
              "      <td>1200</td>\n",
              "      <td>2.0</td>\n",
              "      <td>1.0</td>\n",
              "      <td>51.00</td>\n",
              "    </tr>\n",
              "    <tr>\n",
              "      <th>...</th>\n",
              "      <td>...</td>\n",
              "      <td>...</td>\n",
              "      <td>...</td>\n",
              "      <td>...</td>\n",
              "      <td>...</td>\n",
              "      <td>...</td>\n",
              "      <td>...</td>\n",
              "      <td>...</td>\n",
              "      <td>...</td>\n",
              "    </tr>\n",
              "    <tr>\n",
              "      <th>13315</th>\n",
              "      <td>Built-up  Area</td>\n",
              "      <td>Ready To Move</td>\n",
              "      <td>Whitefield</td>\n",
              "      <td>5 Bedroom</td>\n",
              "      <td>ArsiaEx</td>\n",
              "      <td>3453</td>\n",
              "      <td>4.0</td>\n",
              "      <td>0.0</td>\n",
              "      <td>231.00</td>\n",
              "    </tr>\n",
              "    <tr>\n",
              "      <th>13316</th>\n",
              "      <td>Super built-up  Area</td>\n",
              "      <td>Ready To Move</td>\n",
              "      <td>Richards Town</td>\n",
              "      <td>4 BHK</td>\n",
              "      <td>NaN</td>\n",
              "      <td>3600</td>\n",
              "      <td>5.0</td>\n",
              "      <td>NaN</td>\n",
              "      <td>400.00</td>\n",
              "    </tr>\n",
              "    <tr>\n",
              "      <th>13317</th>\n",
              "      <td>Built-up  Area</td>\n",
              "      <td>Ready To Move</td>\n",
              "      <td>Raja Rajeshwari Nagar</td>\n",
              "      <td>2 BHK</td>\n",
              "      <td>Mahla T</td>\n",
              "      <td>1141</td>\n",
              "      <td>2.0</td>\n",
              "      <td>1.0</td>\n",
              "      <td>60.00</td>\n",
              "    </tr>\n",
              "    <tr>\n",
              "      <th>13318</th>\n",
              "      <td>Super built-up  Area</td>\n",
              "      <td>18-Jun</td>\n",
              "      <td>Padmanabhanagar</td>\n",
              "      <td>4 BHK</td>\n",
              "      <td>SollyCl</td>\n",
              "      <td>4689</td>\n",
              "      <td>4.0</td>\n",
              "      <td>1.0</td>\n",
              "      <td>488.00</td>\n",
              "    </tr>\n",
              "    <tr>\n",
              "      <th>13319</th>\n",
              "      <td>Super built-up  Area</td>\n",
              "      <td>Ready To Move</td>\n",
              "      <td>Doddathoguru</td>\n",
              "      <td>1 BHK</td>\n",
              "      <td>NaN</td>\n",
              "      <td>550</td>\n",
              "      <td>1.0</td>\n",
              "      <td>1.0</td>\n",
              "      <td>17.00</td>\n",
              "    </tr>\n",
              "  </tbody>\n",
              "</table>\n",
              "<p>13320 rows × 9 columns</p>\n",
              "</div>"
            ],
            "text/plain": [
              "                  area_type   availability  ... balcony   price\n",
              "0      Super built-up  Area         19-Dec  ...     1.0   39.07\n",
              "1                Plot  Area  Ready To Move  ...     3.0  120.00\n",
              "2            Built-up  Area  Ready To Move  ...     3.0   62.00\n",
              "3      Super built-up  Area  Ready To Move  ...     1.0   95.00\n",
              "4      Super built-up  Area  Ready To Move  ...     1.0   51.00\n",
              "...                     ...            ...  ...     ...     ...\n",
              "13315        Built-up  Area  Ready To Move  ...     0.0  231.00\n",
              "13316  Super built-up  Area  Ready To Move  ...     NaN  400.00\n",
              "13317        Built-up  Area  Ready To Move  ...     1.0   60.00\n",
              "13318  Super built-up  Area         18-Jun  ...     1.0  488.00\n",
              "13319  Super built-up  Area  Ready To Move  ...     1.0   17.00\n",
              "\n",
              "[13320 rows x 9 columns]"
            ]
          },
          "metadata": {
            "tags": []
          },
          "execution_count": 5
        }
      ]
    },
    {
      "cell_type": "code",
      "metadata": {
        "id": "UeJTDgaeHKT2",
        "colab_type": "code",
        "outputId": "69f57977-b192-44a1-f9d7-9c89358b45dc",
        "colab": {
          "base_uri": "https://localhost:8080/",
          "height": 301
        }
      },
      "source": [
        "test.info()"
      ],
      "execution_count": 0,
      "outputs": [
        {
          "output_type": "stream",
          "text": [
            "<class 'pandas.core.frame.DataFrame'>\n",
            "RangeIndex: 1480 entries, 0 to 1479\n",
            "Data columns (total 9 columns):\n",
            " #   Column        Non-Null Count  Dtype  \n",
            "---  ------        --------------  -----  \n",
            " 0   area_type     1480 non-null   object \n",
            " 1   availability  1480 non-null   object \n",
            " 2   location      1480 non-null   object \n",
            " 3   size          1478 non-null   object \n",
            " 4   society       854 non-null    object \n",
            " 5   total_sqft    1480 non-null   object \n",
            " 6   bath          1473 non-null   float64\n",
            " 7   balcony       1411 non-null   float64\n",
            " 8   price         0 non-null      float64\n",
            "dtypes: float64(3), object(6)\n",
            "memory usage: 104.2+ KB\n"
          ],
          "name": "stdout"
        }
      ]
    },
    {
      "cell_type": "code",
      "metadata": {
        "id": "kPubJIawCfYf",
        "colab_type": "code",
        "outputId": "688adddd-5493-4e4e-8b8a-2a16689c64b2",
        "colab": {
          "base_uri": "https://localhost:8080/",
          "height": 301
        }
      },
      "source": [
        "#info about set\n",
        "train.info()"
      ],
      "execution_count": 0,
      "outputs": [
        {
          "output_type": "stream",
          "text": [
            "<class 'pandas.core.frame.DataFrame'>\n",
            "RangeIndex: 13320 entries, 0 to 13319\n",
            "Data columns (total 9 columns):\n",
            " #   Column        Non-Null Count  Dtype  \n",
            "---  ------        --------------  -----  \n",
            " 0   area_type     13320 non-null  object \n",
            " 1   availability  13320 non-null  object \n",
            " 2   location      13319 non-null  object \n",
            " 3   size          13304 non-null  object \n",
            " 4   society       7818 non-null   object \n",
            " 5   total_sqft    13320 non-null  object \n",
            " 6   bath          13247 non-null  float64\n",
            " 7   balcony       12711 non-null  float64\n",
            " 8   price         13320 non-null  float64\n",
            "dtypes: float64(3), object(6)\n",
            "memory usage: 936.7+ KB\n"
          ],
          "name": "stdout"
        }
      ]
    },
    {
      "cell_type": "code",
      "metadata": {
        "id": "kudMqsI0Cu2L",
        "colab_type": "code",
        "outputId": "3e79fd29-8769-4a83-b60e-c09df62632eb",
        "colab": {
          "base_uri": "https://localhost:8080/",
          "height": 34
        }
      },
      "source": [
        "#columns with missing values\n",
        "missing  = train.isna().sum()[train.isna().sum() != 0]\n",
        "#society should be dropped\n",
        "missing['size']"
      ],
      "execution_count": 0,
      "outputs": [
        {
          "output_type": "execute_result",
          "data": {
            "text/plain": [
              "16"
            ]
          },
          "metadata": {
            "tags": []
          },
          "execution_count": 8
        }
      ]
    },
    {
      "cell_type": "code",
      "metadata": {
        "id": "KWgt7Sd9Edbl",
        "colab_type": "code",
        "outputId": "31427958-548b-474f-8950-06b4fd57e3ec",
        "colab": {
          "base_uri": "https://localhost:8080/",
          "height": 1000
        }
      },
      "source": [
        "#checking all the entries in every columns with missing vaues\n",
        "for i in missing.index:\n",
        "  print(train[i].value_counts(),\"\\n\")\n",
        "  print('no of missing values {}'.format(missing[i]))\n",
        "  print(\"*\"*100)\n",
        "  #make one class for more then 10 bedrooms"
      ],
      "execution_count": 0,
      "outputs": [
        {
          "output_type": "stream",
          "text": [
            "Whitefield                            540\n",
            "Sarjapur  Road                        399\n",
            "Electronic City                       302\n",
            "Kanakpura Road                        273\n",
            "Thanisandra                           234\n",
            "                                     ... \n",
            "Prakruthi Township                      1\n",
            "Akash Nagar                             1\n",
            "Kirloskar layout, Basaveshwarnagar      1\n",
            "IVC Road                                1\n",
            "Konappana Agrahara                      1\n",
            "Name: location, Length: 1305, dtype: int64 \n",
            "\n",
            "no of missing values 1\n",
            "****************************************************************************************************\n",
            "2 BHK         5199\n",
            "3 BHK         4310\n",
            "4 Bedroom      826\n",
            "4 BHK          591\n",
            "3 Bedroom      547\n",
            "1 BHK          538\n",
            "2 Bedroom      329\n",
            "5 Bedroom      297\n",
            "6 Bedroom      191\n",
            "1 Bedroom      105\n",
            "8 Bedroom       84\n",
            "7 Bedroom       83\n",
            "5 BHK           59\n",
            "9 Bedroom       46\n",
            "6 BHK           30\n",
            "7 BHK           17\n",
            "1 RK            13\n",
            "10 Bedroom      12\n",
            "9 BHK            8\n",
            "8 BHK            5\n",
            "11 Bedroom       2\n",
            "11 BHK           2\n",
            "10 BHK           2\n",
            "12 Bedroom       1\n",
            "18 Bedroom       1\n",
            "13 BHK           1\n",
            "43 Bedroom       1\n",
            "16 BHK           1\n",
            "19 BHK           1\n",
            "27 BHK           1\n",
            "14 BHK           1\n",
            "Name: size, dtype: int64 \n",
            "\n",
            "no of missing values 16\n",
            "****************************************************************************************************\n",
            "GrrvaGr    80\n",
            "PrarePa    76\n",
            "Prtates    59\n",
            "Sryalan    59\n",
            "GMown E    56\n",
            "           ..\n",
            "Prhtsua     1\n",
            "Maoseer     1\n",
            "Duavenc     1\n",
            "AdentEl     1\n",
            "MGBay T     1\n",
            "Name: society, Length: 2688, dtype: int64 \n",
            "\n",
            "no of missing values 5502\n",
            "****************************************************************************************************\n",
            "2.0     6908\n",
            "3.0     3286\n",
            "4.0     1226\n",
            "1.0      788\n",
            "5.0      524\n",
            "6.0      273\n",
            "7.0      102\n",
            "8.0       64\n",
            "9.0       43\n",
            "10.0      13\n",
            "12.0       7\n",
            "13.0       3\n",
            "11.0       3\n",
            "16.0       2\n",
            "27.0       1\n",
            "18.0       1\n",
            "40.0       1\n",
            "15.0       1\n",
            "14.0       1\n",
            "Name: bath, dtype: int64 \n",
            "\n",
            "no of missing values 73\n",
            "****************************************************************************************************\n",
            "2.0    5113\n",
            "1.0    4897\n",
            "3.0    1672\n",
            "0.0    1029\n",
            "Name: balcony, dtype: int64 \n",
            "\n",
            "no of missing values 609\n",
            "****************************************************************************************************\n"
          ],
          "name": "stdout"
        }
      ]
    },
    {
      "cell_type": "code",
      "metadata": {
        "id": "4yqgWHdvDVWp",
        "colab_type": "code",
        "outputId": "bc2505eb-8f33-41eb-e0d5-f471a2691591",
        "colab": {
          "base_uri": "https://localhost:8080/",
          "height": 816
        }
      },
      "source": [
        "#checking all the entries in every columns without missing vaues\n",
        "for i in train.columns:\n",
        "  if i not in missing.index:\n",
        "    print(train[i].value_counts())\n",
        "    print(\"*\"*100)"
      ],
      "execution_count": 0,
      "outputs": [
        {
          "output_type": "stream",
          "text": [
            "Super built-up  Area    8790\n",
            "Built-up  Area          2418\n",
            "Plot  Area              2025\n",
            "Carpet  Area              87\n",
            "Name: area_type, dtype: int64\n",
            "****************************************************************************************************\n",
            "Ready To Move    10581\n",
            "18-Dec             307\n",
            "18-May             295\n",
            "18-Apr             271\n",
            "18-Aug             200\n",
            "                 ...  \n",
            "16-Jul               1\n",
            "15-Jun               1\n",
            "14-Jul               1\n",
            "15-Dec               1\n",
            "14-Nov               1\n",
            "Name: availability, Length: 81, dtype: int64\n",
            "****************************************************************************************************\n",
            "1200           843\n",
            "1100           221\n",
            "1500           205\n",
            "2400           196\n",
            "600            180\n",
            "              ... \n",
            "2365             1\n",
            "2563 - 2733      1\n",
            "1831             1\n",
            "668              1\n",
            "3329             1\n",
            "Name: total_sqft, Length: 2117, dtype: int64\n",
            "****************************************************************************************************\n",
            "75.00    310\n",
            "65.00    302\n",
            "55.00    275\n",
            "60.00    270\n",
            "45.00    240\n",
            "        ... \n",
            "81.55      1\n",
            "69.49      1\n",
            "42.18      1\n",
            "70.25      1\n",
            "74.82      1\n",
            "Name: price, Length: 1994, dtype: int64\n",
            "****************************************************************************************************\n"
          ],
          "name": "stdout"
        }
      ]
    },
    {
      "cell_type": "code",
      "metadata": {
        "id": "uUeZl1weElRj",
        "colab_type": "code",
        "colab": {}
      },
      "source": [
        "#dropping society as it has 5502 missing values and 2688 types\n",
        "train.drop(columns = ['society'],inplace= True)"
      ],
      "execution_count": 0,
      "outputs": []
    },
    {
      "cell_type": "markdown",
      "metadata": {
        "id": "02D47BtrO3yG",
        "colab_type": "text"
      },
      "source": [
        "#Cleaning data \n",
        "1. Training data"
      ]
    },
    {
      "cell_type": "code",
      "metadata": {
        "id": "PxO8uxP4RXu4",
        "colab_type": "code",
        "outputId": "324ca657-0186-4dab-cf16-87e193d8217f",
        "colab": {
          "base_uri": "https://localhost:8080/",
          "height": 265
        }
      },
      "source": [
        "train.availability.unique()"
      ],
      "execution_count": 0,
      "outputs": [
        {
          "output_type": "execute_result",
          "data": {
            "text/plain": [
              "array(['19-Dec', 'Ready To Move', '18-May', '18-Feb', '18-Nov', '20-Dec',\n",
              "       '17-Oct', '21-Dec', '19-Sep', '20-Sep', '18-Mar', '20-Feb',\n",
              "       '18-Apr', '20-Aug', '18-Oct', '19-Mar', '17-Sep', '18-Dec',\n",
              "       '17-Aug', '19-Apr', '18-Jun', '22-Dec', '22-Jan', '18-Aug',\n",
              "       '19-Jan', '17-Jul', '18-Jul', '21-Jun', '20-May', '19-Aug',\n",
              "       '18-Sep', '17-May', '17-Jun', '21-May', '18-Jan', '20-Mar',\n",
              "       '17-Dec', '16-Mar', '19-Jun', '22-Jun', '19-Jul', '21-Feb',\n",
              "       'Immediate Possession', '19-May', '17-Nov', '20-Oct', '20-Jun',\n",
              "       '19-Feb', '21-Oct', '21-Jan', '17-Mar', '17-Apr', '22-May',\n",
              "       '19-Oct', '21-Jul', '21-Nov', '21-Mar', '16-Dec', '22-Mar',\n",
              "       '20-Jan', '21-Sep', '21-Aug', '14-Nov', '19-Nov', '15-Nov',\n",
              "       '16-Jul', '15-Jun', '17-Feb', '20-Nov', '20-Jul', '16-Sep',\n",
              "       '15-Oct', '15-Dec', '16-Oct', '22-Nov', '15-Aug', '17-Jan',\n",
              "       '16-Nov', '20-Apr', '16-Jan', '14-Jul'], dtype=object)"
            ]
          },
          "metadata": {
            "tags": []
          },
          "execution_count": 12
        }
      ]
    },
    {
      "cell_type": "code",
      "metadata": {
        "id": "lGlKGlXJN35_",
        "colab_type": "code",
        "colab": {}
      },
      "source": [
        "#avaiblity will be changed to ready to move in and not ready to move in\n",
        "def cleaner1(x):\n",
        "  if x.strip().lower() == 'ready to move':\n",
        "    return x\n",
        "  elif x.strip().lower() == \"immediate possession\":\n",
        "    return x\n",
        "  else:\n",
        "    return 'Not ready to move'\n",
        "train['availability'] = train.availability.apply(lambda x : cleaner1(x))"
      ],
      "execution_count": 0,
      "outputs": []
    },
    {
      "cell_type": "code",
      "metadata": {
        "id": "zpdZHXu5OJuy",
        "colab_type": "code",
        "colab": {}
      },
      "source": [
        "#changing type to category\n",
        "train.availability = train.availability.astype('category')"
      ],
      "execution_count": 0,
      "outputs": []
    },
    {
      "cell_type": "code",
      "metadata": {
        "id": "U7QaO0prPt6Y",
        "colab_type": "code",
        "colab": {}
      },
      "source": [
        "#cleaning size column\n",
        "def cleaner2(x):\n",
        "  try:\n",
        "    return x.split(' ')[0]\n",
        "  except:\n",
        "    return x\n",
        "train['size'] = train['size'].apply(lambda x : cleaner2(x))"
      ],
      "execution_count": 0,
      "outputs": []
    },
    {
      "cell_type": "code",
      "metadata": {
        "id": "fi_AZj90Sepy",
        "colab_type": "code",
        "colab": {}
      },
      "source": [
        "#setting type to float\n",
        "train['size'] = train['size'].astype('float')"
      ],
      "execution_count": 0,
      "outputs": []
    },
    {
      "cell_type": "code",
      "metadata": {
        "id": "9PTgpal0VUg6",
        "colab_type": "code",
        "colab": {}
      },
      "source": [
        "import re\n",
        "\n",
        "#cleaning function for total_sqft\n",
        "def sqft_cleaner(i):\n",
        "  try:\n",
        "    return float(i)\n",
        "  except:\n",
        "    if len(i.split('-')) == 2:\n",
        "      a = i.split('-')[0]\n",
        "      b = i.split('-')[1]\n",
        "      c = (float(a) + float(b))/2\n",
        "      return c\n",
        "    else:\n",
        "      split_list = re.split('(\\d*.*\\d)', i)\n",
        "      area = float(split_list[1])\n",
        "      area_type = split_list[2]\n",
        "      if area_type == 'Sq. Meter':\n",
        "        area_sqft= area * 10.7639\n",
        "      elif area_type == 'Sq. Yards':\n",
        "        area_sqft= area * 9.0\n",
        "      elif area_type == 'Perch':\n",
        "        area_sqft= area * 272.25\n",
        "      elif area_type == 'Acres':\n",
        "        area_sqft= area * 43560.0\n",
        "      elif area_type == 'Cents':\n",
        "        area_sqft= area * 435.61545\n",
        "      elif area_type == 'Guntha':\n",
        "        area_sqft= area * 1089.0\n",
        "      elif area_type == 'Grounds':\n",
        "        area_sqft= area * 2400.0\n",
        "      return float(area_sqft)\n",
        "\n",
        "#applying function\n",
        "train.total_sqft = train.total_sqft.apply(lambda x : sqft_cleaner(x))\n",
        "train.total_sqft = train.total_sqft.astype('float')"
      ],
      "execution_count": 0,
      "outputs": []
    },
    {
      "cell_type": "code",
      "metadata": {
        "id": "Ihp5J2tevRLi",
        "colab_type": "code",
        "outputId": "7705a8f2-6f39-4d4a-bb3e-b5ec4ff29808",
        "colab": {
          "base_uri": "https://localhost:8080/",
          "height": 390
        }
      },
      "source": [
        "train.bath.value_counts(dropna=False)"
      ],
      "execution_count": 0,
      "outputs": [
        {
          "output_type": "execute_result",
          "data": {
            "text/plain": [
              "2.0     6908\n",
              "3.0     3286\n",
              "4.0     1226\n",
              "1.0      788\n",
              "5.0      524\n",
              "6.0      273\n",
              "7.0      102\n",
              "NaN       73\n",
              "8.0       64\n",
              "9.0       43\n",
              "10.0      13\n",
              "12.0       7\n",
              "11.0       3\n",
              "13.0       3\n",
              "16.0       2\n",
              "18.0       1\n",
              "14.0       1\n",
              "40.0       1\n",
              "15.0       1\n",
              "27.0       1\n",
              "Name: bath, dtype: int64"
            ]
          },
          "metadata": {
            "tags": []
          },
          "execution_count": 18
        }
      ]
    },
    {
      "cell_type": "code",
      "metadata": {
        "id": "rRl871lSxnaQ",
        "colab_type": "code",
        "colab": {}
      },
      "source": [
        "train1 = train.copy()\n",
        "train2 = train.copy()\n",
        "train3 = train.copy()"
      ],
      "execution_count": 0,
      "outputs": []
    },
    {
      "cell_type": "code",
      "metadata": {
        "id": "9laXohdOuXPa",
        "colab_type": "code",
        "colab": {}
      },
      "source": [
        "train_dummy = pd.get_dummies(train,columns=['area_type','availability','location','size','balcony','bath'])"
      ],
      "execution_count": 0,
      "outputs": []
    },
    {
      "cell_type": "code",
      "metadata": {
        "id": "QvXCsXXR4elv",
        "colab_type": "code",
        "outputId": "c6647d52-b9de-435e-84f7-73d267c803aa",
        "colab": {
          "base_uri": "https://localhost:8080/",
          "height": 330
        }
      },
      "source": [
        "train_dummy.tail()"
      ],
      "execution_count": 0,
      "outputs": [
        {
          "output_type": "execute_result",
          "data": {
            "text/html": [
              "<div>\n",
              "<style scoped>\n",
              "    .dataframe tbody tr th:only-of-type {\n",
              "        vertical-align: middle;\n",
              "    }\n",
              "\n",
              "    .dataframe tbody tr th {\n",
              "        vertical-align: top;\n",
              "    }\n",
              "\n",
              "    .dataframe thead th {\n",
              "        text-align: right;\n",
              "    }\n",
              "</style>\n",
              "<table border=\"1\" class=\"dataframe\">\n",
              "  <thead>\n",
              "    <tr style=\"text-align: right;\">\n",
              "      <th></th>\n",
              "      <th>total_sqft</th>\n",
              "      <th>price</th>\n",
              "      <th>area_type_Built-up  Area</th>\n",
              "      <th>area_type_Carpet  Area</th>\n",
              "      <th>area_type_Plot  Area</th>\n",
              "      <th>area_type_Super built-up  Area</th>\n",
              "      <th>availability_Immediate Possession</th>\n",
              "      <th>availability_Not ready to move</th>\n",
              "      <th>availability_Ready To Move</th>\n",
              "      <th>location_ Anekal</th>\n",
              "      <th>location_ Banaswadi</th>\n",
              "      <th>location_ Basavangudi</th>\n",
              "      <th>location_ Bhoganhalli</th>\n",
              "      <th>location_ Devarabeesana Halli</th>\n",
              "      <th>location_ Devarachikkanahalli</th>\n",
              "      <th>location_ Electronic City</th>\n",
              "      <th>location_ Mysore Highway</th>\n",
              "      <th>location_ Rachenahalli</th>\n",
              "      <th>location_ Sector 1 HSR Layout</th>\n",
              "      <th>location_ Thanisandra</th>\n",
              "      <th>location_ Whitefield</th>\n",
              "      <th>location_ ittamadu</th>\n",
              "      <th>location_ south</th>\n",
              "      <th>location_1 Annasandrapalya</th>\n",
              "      <th>location_1 Giri Nagar</th>\n",
              "      <th>location_1 Immadihalli</th>\n",
              "      <th>location_1 Ramamurthy Nagar</th>\n",
              "      <th>location_12th cross srinivas nagar banshankari 3rd stage</th>\n",
              "      <th>location_1A Block Koramangala</th>\n",
              "      <th>location_1Channasandra</th>\n",
              "      <th>location_1Hanuman Nagar</th>\n",
              "      <th>location_1Hoysalanagar</th>\n",
              "      <th>location_1Kasavanhalli</th>\n",
              "      <th>location_1st Block BEL Layout</th>\n",
              "      <th>location_1st Block HBR Layout</th>\n",
              "      <th>location_1st Block HRBR Layout</th>\n",
              "      <th>location_1st Block Jayanagar</th>\n",
              "      <th>location_1st Block Koramangala</th>\n",
              "      <th>location_1st Phase JP Nagar</th>\n",
              "      <th>location_1st Stage Domlur</th>\n",
              "      <th>...</th>\n",
              "      <th>size_3.0</th>\n",
              "      <th>size_4.0</th>\n",
              "      <th>size_5.0</th>\n",
              "      <th>size_6.0</th>\n",
              "      <th>size_7.0</th>\n",
              "      <th>size_8.0</th>\n",
              "      <th>size_9.0</th>\n",
              "      <th>size_10.0</th>\n",
              "      <th>size_11.0</th>\n",
              "      <th>size_12.0</th>\n",
              "      <th>size_13.0</th>\n",
              "      <th>size_14.0</th>\n",
              "      <th>size_16.0</th>\n",
              "      <th>size_18.0</th>\n",
              "      <th>size_19.0</th>\n",
              "      <th>size_27.0</th>\n",
              "      <th>size_43.0</th>\n",
              "      <th>balcony_0.0</th>\n",
              "      <th>balcony_1.0</th>\n",
              "      <th>balcony_2.0</th>\n",
              "      <th>balcony_3.0</th>\n",
              "      <th>bath_1.0</th>\n",
              "      <th>bath_2.0</th>\n",
              "      <th>bath_3.0</th>\n",
              "      <th>bath_4.0</th>\n",
              "      <th>bath_5.0</th>\n",
              "      <th>bath_6.0</th>\n",
              "      <th>bath_7.0</th>\n",
              "      <th>bath_8.0</th>\n",
              "      <th>bath_9.0</th>\n",
              "      <th>bath_10.0</th>\n",
              "      <th>bath_11.0</th>\n",
              "      <th>bath_12.0</th>\n",
              "      <th>bath_13.0</th>\n",
              "      <th>bath_14.0</th>\n",
              "      <th>bath_15.0</th>\n",
              "      <th>bath_16.0</th>\n",
              "      <th>bath_18.0</th>\n",
              "      <th>bath_27.0</th>\n",
              "      <th>bath_40.0</th>\n",
              "    </tr>\n",
              "  </thead>\n",
              "  <tbody>\n",
              "    <tr>\n",
              "      <th>13315</th>\n",
              "      <td>3453.0</td>\n",
              "      <td>231.0</td>\n",
              "      <td>1</td>\n",
              "      <td>0</td>\n",
              "      <td>0</td>\n",
              "      <td>0</td>\n",
              "      <td>0</td>\n",
              "      <td>0</td>\n",
              "      <td>1</td>\n",
              "      <td>0</td>\n",
              "      <td>0</td>\n",
              "      <td>0</td>\n",
              "      <td>0</td>\n",
              "      <td>0</td>\n",
              "      <td>0</td>\n",
              "      <td>0</td>\n",
              "      <td>0</td>\n",
              "      <td>0</td>\n",
              "      <td>0</td>\n",
              "      <td>0</td>\n",
              "      <td>0</td>\n",
              "      <td>0</td>\n",
              "      <td>0</td>\n",
              "      <td>0</td>\n",
              "      <td>0</td>\n",
              "      <td>0</td>\n",
              "      <td>0</td>\n",
              "      <td>0</td>\n",
              "      <td>0</td>\n",
              "      <td>0</td>\n",
              "      <td>0</td>\n",
              "      <td>0</td>\n",
              "      <td>0</td>\n",
              "      <td>0</td>\n",
              "      <td>0</td>\n",
              "      <td>0</td>\n",
              "      <td>0</td>\n",
              "      <td>0</td>\n",
              "      <td>0</td>\n",
              "      <td>0</td>\n",
              "      <td>...</td>\n",
              "      <td>0</td>\n",
              "      <td>0</td>\n",
              "      <td>1</td>\n",
              "      <td>0</td>\n",
              "      <td>0</td>\n",
              "      <td>0</td>\n",
              "      <td>0</td>\n",
              "      <td>0</td>\n",
              "      <td>0</td>\n",
              "      <td>0</td>\n",
              "      <td>0</td>\n",
              "      <td>0</td>\n",
              "      <td>0</td>\n",
              "      <td>0</td>\n",
              "      <td>0</td>\n",
              "      <td>0</td>\n",
              "      <td>0</td>\n",
              "      <td>1</td>\n",
              "      <td>0</td>\n",
              "      <td>0</td>\n",
              "      <td>0</td>\n",
              "      <td>0</td>\n",
              "      <td>0</td>\n",
              "      <td>0</td>\n",
              "      <td>1</td>\n",
              "      <td>0</td>\n",
              "      <td>0</td>\n",
              "      <td>0</td>\n",
              "      <td>0</td>\n",
              "      <td>0</td>\n",
              "      <td>0</td>\n",
              "      <td>0</td>\n",
              "      <td>0</td>\n",
              "      <td>0</td>\n",
              "      <td>0</td>\n",
              "      <td>0</td>\n",
              "      <td>0</td>\n",
              "      <td>0</td>\n",
              "      <td>0</td>\n",
              "      <td>0</td>\n",
              "    </tr>\n",
              "    <tr>\n",
              "      <th>13316</th>\n",
              "      <td>3600.0</td>\n",
              "      <td>400.0</td>\n",
              "      <td>0</td>\n",
              "      <td>0</td>\n",
              "      <td>0</td>\n",
              "      <td>1</td>\n",
              "      <td>0</td>\n",
              "      <td>0</td>\n",
              "      <td>1</td>\n",
              "      <td>0</td>\n",
              "      <td>0</td>\n",
              "      <td>0</td>\n",
              "      <td>0</td>\n",
              "      <td>0</td>\n",
              "      <td>0</td>\n",
              "      <td>0</td>\n",
              "      <td>0</td>\n",
              "      <td>0</td>\n",
              "      <td>0</td>\n",
              "      <td>0</td>\n",
              "      <td>0</td>\n",
              "      <td>0</td>\n",
              "      <td>0</td>\n",
              "      <td>0</td>\n",
              "      <td>0</td>\n",
              "      <td>0</td>\n",
              "      <td>0</td>\n",
              "      <td>0</td>\n",
              "      <td>0</td>\n",
              "      <td>0</td>\n",
              "      <td>0</td>\n",
              "      <td>0</td>\n",
              "      <td>0</td>\n",
              "      <td>0</td>\n",
              "      <td>0</td>\n",
              "      <td>0</td>\n",
              "      <td>0</td>\n",
              "      <td>0</td>\n",
              "      <td>0</td>\n",
              "      <td>0</td>\n",
              "      <td>...</td>\n",
              "      <td>0</td>\n",
              "      <td>1</td>\n",
              "      <td>0</td>\n",
              "      <td>0</td>\n",
              "      <td>0</td>\n",
              "      <td>0</td>\n",
              "      <td>0</td>\n",
              "      <td>0</td>\n",
              "      <td>0</td>\n",
              "      <td>0</td>\n",
              "      <td>0</td>\n",
              "      <td>0</td>\n",
              "      <td>0</td>\n",
              "      <td>0</td>\n",
              "      <td>0</td>\n",
              "      <td>0</td>\n",
              "      <td>0</td>\n",
              "      <td>0</td>\n",
              "      <td>0</td>\n",
              "      <td>0</td>\n",
              "      <td>0</td>\n",
              "      <td>0</td>\n",
              "      <td>0</td>\n",
              "      <td>0</td>\n",
              "      <td>0</td>\n",
              "      <td>1</td>\n",
              "      <td>0</td>\n",
              "      <td>0</td>\n",
              "      <td>0</td>\n",
              "      <td>0</td>\n",
              "      <td>0</td>\n",
              "      <td>0</td>\n",
              "      <td>0</td>\n",
              "      <td>0</td>\n",
              "      <td>0</td>\n",
              "      <td>0</td>\n",
              "      <td>0</td>\n",
              "      <td>0</td>\n",
              "      <td>0</td>\n",
              "      <td>0</td>\n",
              "    </tr>\n",
              "    <tr>\n",
              "      <th>13317</th>\n",
              "      <td>1141.0</td>\n",
              "      <td>60.0</td>\n",
              "      <td>1</td>\n",
              "      <td>0</td>\n",
              "      <td>0</td>\n",
              "      <td>0</td>\n",
              "      <td>0</td>\n",
              "      <td>0</td>\n",
              "      <td>1</td>\n",
              "      <td>0</td>\n",
              "      <td>0</td>\n",
              "      <td>0</td>\n",
              "      <td>0</td>\n",
              "      <td>0</td>\n",
              "      <td>0</td>\n",
              "      <td>0</td>\n",
              "      <td>0</td>\n",
              "      <td>0</td>\n",
              "      <td>0</td>\n",
              "      <td>0</td>\n",
              "      <td>0</td>\n",
              "      <td>0</td>\n",
              "      <td>0</td>\n",
              "      <td>0</td>\n",
              "      <td>0</td>\n",
              "      <td>0</td>\n",
              "      <td>0</td>\n",
              "      <td>0</td>\n",
              "      <td>0</td>\n",
              "      <td>0</td>\n",
              "      <td>0</td>\n",
              "      <td>0</td>\n",
              "      <td>0</td>\n",
              "      <td>0</td>\n",
              "      <td>0</td>\n",
              "      <td>0</td>\n",
              "      <td>0</td>\n",
              "      <td>0</td>\n",
              "      <td>0</td>\n",
              "      <td>0</td>\n",
              "      <td>...</td>\n",
              "      <td>0</td>\n",
              "      <td>0</td>\n",
              "      <td>0</td>\n",
              "      <td>0</td>\n",
              "      <td>0</td>\n",
              "      <td>0</td>\n",
              "      <td>0</td>\n",
              "      <td>0</td>\n",
              "      <td>0</td>\n",
              "      <td>0</td>\n",
              "      <td>0</td>\n",
              "      <td>0</td>\n",
              "      <td>0</td>\n",
              "      <td>0</td>\n",
              "      <td>0</td>\n",
              "      <td>0</td>\n",
              "      <td>0</td>\n",
              "      <td>0</td>\n",
              "      <td>1</td>\n",
              "      <td>0</td>\n",
              "      <td>0</td>\n",
              "      <td>0</td>\n",
              "      <td>1</td>\n",
              "      <td>0</td>\n",
              "      <td>0</td>\n",
              "      <td>0</td>\n",
              "      <td>0</td>\n",
              "      <td>0</td>\n",
              "      <td>0</td>\n",
              "      <td>0</td>\n",
              "      <td>0</td>\n",
              "      <td>0</td>\n",
              "      <td>0</td>\n",
              "      <td>0</td>\n",
              "      <td>0</td>\n",
              "      <td>0</td>\n",
              "      <td>0</td>\n",
              "      <td>0</td>\n",
              "      <td>0</td>\n",
              "      <td>0</td>\n",
              "    </tr>\n",
              "    <tr>\n",
              "      <th>13318</th>\n",
              "      <td>4689.0</td>\n",
              "      <td>488.0</td>\n",
              "      <td>0</td>\n",
              "      <td>0</td>\n",
              "      <td>0</td>\n",
              "      <td>1</td>\n",
              "      <td>0</td>\n",
              "      <td>1</td>\n",
              "      <td>0</td>\n",
              "      <td>0</td>\n",
              "      <td>0</td>\n",
              "      <td>0</td>\n",
              "      <td>0</td>\n",
              "      <td>0</td>\n",
              "      <td>0</td>\n",
              "      <td>0</td>\n",
              "      <td>0</td>\n",
              "      <td>0</td>\n",
              "      <td>0</td>\n",
              "      <td>0</td>\n",
              "      <td>0</td>\n",
              "      <td>0</td>\n",
              "      <td>0</td>\n",
              "      <td>0</td>\n",
              "      <td>0</td>\n",
              "      <td>0</td>\n",
              "      <td>0</td>\n",
              "      <td>0</td>\n",
              "      <td>0</td>\n",
              "      <td>0</td>\n",
              "      <td>0</td>\n",
              "      <td>0</td>\n",
              "      <td>0</td>\n",
              "      <td>0</td>\n",
              "      <td>0</td>\n",
              "      <td>0</td>\n",
              "      <td>0</td>\n",
              "      <td>0</td>\n",
              "      <td>0</td>\n",
              "      <td>0</td>\n",
              "      <td>...</td>\n",
              "      <td>0</td>\n",
              "      <td>1</td>\n",
              "      <td>0</td>\n",
              "      <td>0</td>\n",
              "      <td>0</td>\n",
              "      <td>0</td>\n",
              "      <td>0</td>\n",
              "      <td>0</td>\n",
              "      <td>0</td>\n",
              "      <td>0</td>\n",
              "      <td>0</td>\n",
              "      <td>0</td>\n",
              "      <td>0</td>\n",
              "      <td>0</td>\n",
              "      <td>0</td>\n",
              "      <td>0</td>\n",
              "      <td>0</td>\n",
              "      <td>0</td>\n",
              "      <td>1</td>\n",
              "      <td>0</td>\n",
              "      <td>0</td>\n",
              "      <td>0</td>\n",
              "      <td>0</td>\n",
              "      <td>0</td>\n",
              "      <td>1</td>\n",
              "      <td>0</td>\n",
              "      <td>0</td>\n",
              "      <td>0</td>\n",
              "      <td>0</td>\n",
              "      <td>0</td>\n",
              "      <td>0</td>\n",
              "      <td>0</td>\n",
              "      <td>0</td>\n",
              "      <td>0</td>\n",
              "      <td>0</td>\n",
              "      <td>0</td>\n",
              "      <td>0</td>\n",
              "      <td>0</td>\n",
              "      <td>0</td>\n",
              "      <td>0</td>\n",
              "    </tr>\n",
              "    <tr>\n",
              "      <th>13319</th>\n",
              "      <td>550.0</td>\n",
              "      <td>17.0</td>\n",
              "      <td>0</td>\n",
              "      <td>0</td>\n",
              "      <td>0</td>\n",
              "      <td>1</td>\n",
              "      <td>0</td>\n",
              "      <td>0</td>\n",
              "      <td>1</td>\n",
              "      <td>0</td>\n",
              "      <td>0</td>\n",
              "      <td>0</td>\n",
              "      <td>0</td>\n",
              "      <td>0</td>\n",
              "      <td>0</td>\n",
              "      <td>0</td>\n",
              "      <td>0</td>\n",
              "      <td>0</td>\n",
              "      <td>0</td>\n",
              "      <td>0</td>\n",
              "      <td>0</td>\n",
              "      <td>0</td>\n",
              "      <td>0</td>\n",
              "      <td>0</td>\n",
              "      <td>0</td>\n",
              "      <td>0</td>\n",
              "      <td>0</td>\n",
              "      <td>0</td>\n",
              "      <td>0</td>\n",
              "      <td>0</td>\n",
              "      <td>0</td>\n",
              "      <td>0</td>\n",
              "      <td>0</td>\n",
              "      <td>0</td>\n",
              "      <td>0</td>\n",
              "      <td>0</td>\n",
              "      <td>0</td>\n",
              "      <td>0</td>\n",
              "      <td>0</td>\n",
              "      <td>0</td>\n",
              "      <td>...</td>\n",
              "      <td>0</td>\n",
              "      <td>0</td>\n",
              "      <td>0</td>\n",
              "      <td>0</td>\n",
              "      <td>0</td>\n",
              "      <td>0</td>\n",
              "      <td>0</td>\n",
              "      <td>0</td>\n",
              "      <td>0</td>\n",
              "      <td>0</td>\n",
              "      <td>0</td>\n",
              "      <td>0</td>\n",
              "      <td>0</td>\n",
              "      <td>0</td>\n",
              "      <td>0</td>\n",
              "      <td>0</td>\n",
              "      <td>0</td>\n",
              "      <td>0</td>\n",
              "      <td>1</td>\n",
              "      <td>0</td>\n",
              "      <td>0</td>\n",
              "      <td>1</td>\n",
              "      <td>0</td>\n",
              "      <td>0</td>\n",
              "      <td>0</td>\n",
              "      <td>0</td>\n",
              "      <td>0</td>\n",
              "      <td>0</td>\n",
              "      <td>0</td>\n",
              "      <td>0</td>\n",
              "      <td>0</td>\n",
              "      <td>0</td>\n",
              "      <td>0</td>\n",
              "      <td>0</td>\n",
              "      <td>0</td>\n",
              "      <td>0</td>\n",
              "      <td>0</td>\n",
              "      <td>0</td>\n",
              "      <td>0</td>\n",
              "      <td>0</td>\n",
              "    </tr>\n",
              "  </tbody>\n",
              "</table>\n",
              "<p>5 rows × 1356 columns</p>\n",
              "</div>"
            ],
            "text/plain": [
              "       total_sqft  price  ...  bath_27.0  bath_40.0\n",
              "13315      3453.0  231.0  ...          0          0\n",
              "13316      3600.0  400.0  ...          0          0\n",
              "13317      1141.0   60.0  ...          0          0\n",
              "13318      4689.0  488.0  ...          0          0\n",
              "13319       550.0   17.0  ...          0          0\n",
              "\n",
              "[5 rows x 1356 columns]"
            ]
          },
          "metadata": {
            "tags": []
          },
          "execution_count": 21
        }
      ]
    },
    {
      "cell_type": "markdown",
      "metadata": {
        "id": "AbAqy1ZSri-T",
        "colab_type": "text"
      },
      "source": [
        "Test"
      ]
    },
    {
      "cell_type": "code",
      "metadata": {
        "id": "DkvNF1vclmT7",
        "colab_type": "code",
        "colab": {}
      },
      "source": [
        "#avaiblity will be changed to ready to move in and not ready to move in\n",
        "def cleaner1(x):\n",
        "  if x.strip().lower() == 'ready to move':\n",
        "    return x\n",
        "  elif x.strip().lower() == \"immediate possession\":\n",
        "    return x\n",
        "  else:\n",
        "    return 'Not ready to move'\n",
        "test['availability'] = test.availability.apply(lambda x : cleaner1(x))"
      ],
      "execution_count": 0,
      "outputs": []
    },
    {
      "cell_type": "code",
      "metadata": {
        "id": "65omx_XyhfUV",
        "colab_type": "code",
        "colab": {}
      },
      "source": [
        "#changing type to category\n",
        "test.availability = test.availability.astype('category')"
      ],
      "execution_count": 0,
      "outputs": []
    },
    {
      "cell_type": "code",
      "metadata": {
        "id": "OI2amUtdrG5d",
        "colab_type": "code",
        "colab": {}
      },
      "source": [
        "#cleaning size column\n",
        "def cleaner2(x):\n",
        "  try:\n",
        "    return x.split(' ')[0]\n",
        "  except:\n",
        "    return x\n",
        "test['size'] = test['size'].apply(lambda x : cleaner2(x))"
      ],
      "execution_count": 0,
      "outputs": []
    },
    {
      "cell_type": "code",
      "metadata": {
        "id": "qtRw3syCsNtu",
        "colab_type": "code",
        "colab": {}
      },
      "source": [
        "#setting type to float\n",
        "test['size'] = test['size'].astype('float')"
      ],
      "execution_count": 0,
      "outputs": []
    },
    {
      "cell_type": "code",
      "metadata": {
        "id": "5TZiLt4xsTtP",
        "colab_type": "code",
        "colab": {}
      },
      "source": [
        "#cleaning function for total_sqft\n",
        "def sqft_cleaner(i):\n",
        "  try:\n",
        "    return float(i)\n",
        "  except:\n",
        "    if len(i.split('-')) == 2:\n",
        "      a = i.split('-')[0]\n",
        "      b = i.split('-')[1]\n",
        "      c = (float(a) + float(b))/2\n",
        "      return c\n",
        "    else:\n",
        "      split_list = re.split('(\\d*.*\\d)', i)\n",
        "      area = float(split_list[1])\n",
        "      area_type = split_list[2]\n",
        "      if area_type == 'Sq. Meter':\n",
        "        area_sqft= area * 10.7639\n",
        "      elif area_type == 'Sq. Yards':\n",
        "        area_sqft= area * 9.0\n",
        "      elif area_type == 'Perch':\n",
        "        area_sqft= area * 272.25\n",
        "      elif area_type == 'Acres':\n",
        "        area_sqft= area * 43560.0\n",
        "      elif area_type == 'Cents':\n",
        "        area_sqft= area * 435.61545\n",
        "      elif area_type == 'Guntha':\n",
        "        area_sqft= area * 1089.0\n",
        "      elif area_type == 'Grounds':\n",
        "        area_sqft= area * 2400.0\n",
        "      return float(area_sqft)\n",
        "\n",
        "#applying function\n",
        "test.total_sqft = test.total_sqft.apply(lambda x : sqft_cleaner(x))\n",
        "test.total_sqft = test.total_sqft.astype('float')"
      ],
      "execution_count": 0,
      "outputs": []
    },
    {
      "cell_type": "code",
      "metadata": {
        "id": "W3JG9N5ly3H8",
        "colab_type": "code",
        "colab": {}
      },
      "source": [
        "test.drop(columns = ['society'],inplace = True)"
      ],
      "execution_count": 0,
      "outputs": []
    },
    {
      "cell_type": "code",
      "metadata": {
        "id": "JvjPSC_dshmk",
        "colab_type": "code",
        "colab": {}
      },
      "source": [
        "test_dummy = pd.get_dummies(test,columns=['area_type','availability','location','size','balcony','bath'])"
      ],
      "execution_count": 0,
      "outputs": []
    },
    {
      "cell_type": "markdown",
      "metadata": {
        "id": "H96QQHVszWNQ",
        "colab_type": "text"
      },
      "source": [
        "# Modelling (naieve way)"
      ]
    },
    {
      "cell_type": "code",
      "metadata": {
        "id": "5i-4amve0tDd",
        "colab_type": "code",
        "colab": {}
      },
      "source": [
        "X = train_dummy.drop(columns= 'price')\n",
        "Y = train_dummy.price"
      ],
      "execution_count": 0,
      "outputs": []
    },
    {
      "cell_type": "code",
      "metadata": {
        "id": "Kvtg-jW2uaAZ",
        "colab_type": "code",
        "outputId": "730d3cb0-073b-4e50-bc7c-415c3ad882bc",
        "colab": {
          "base_uri": "https://localhost:8080/",
          "height": 283
        }
      },
      "source": [
        "\n",
        "train.info()"
      ],
      "execution_count": 0,
      "outputs": [
        {
          "output_type": "stream",
          "text": [
            "<class 'pandas.core.frame.DataFrame'>\n",
            "RangeIndex: 13320 entries, 0 to 13319\n",
            "Data columns (total 8 columns):\n",
            " #   Column        Non-Null Count  Dtype   \n",
            "---  ------        --------------  -----   \n",
            " 0   area_type     13320 non-null  object  \n",
            " 1   availability  13320 non-null  category\n",
            " 2   location      13319 non-null  object  \n",
            " 3   size          13304 non-null  float64 \n",
            " 4   total_sqft    13320 non-null  float64 \n",
            " 5   bath          13247 non-null  float64 \n",
            " 6   balcony       12711 non-null  float64 \n",
            " 7   price         13320 non-null  float64 \n",
            "dtypes: category(1), float64(5), object(2)\n",
            "memory usage: 741.7+ KB\n"
          ],
          "name": "stdout"
        }
      ]
    },
    {
      "cell_type": "code",
      "metadata": {
        "id": "Hx73F0e28VVP",
        "colab_type": "code",
        "colab": {}
      },
      "source": [
        "\n",
        "from sklearn.model_selection import train_test_split #To split the data we use train_test_split function\n",
        "x_train, x_test, y_train, y_test = train_test_split(X, Y, test_size=0.2, random_state=7)"
      ],
      "execution_count": 0,
      "outputs": []
    },
    {
      "cell_type": "code",
      "metadata": {
        "id": "QIVDctShzViw",
        "colab_type": "code",
        "outputId": "1d6bc895-feba-4a88-df55-3303bae1585a",
        "colab": {
          "base_uri": "https://localhost:8080/",
          "height": 141
        }
      },
      "source": [
        "\n",
        "# Fitting Random Forest Regression to the dataset \n",
        "# import the regressor \n",
        "from sklearn.ensemble import RandomForestRegressor \n",
        "  \n",
        "# create regressor object \n",
        "regressor = RandomForestRegressor(n_estimators = 100, random_state = 0) \n",
        "  \n",
        "# fit the regressor with x and y data \n",
        "regressor.fit(x_train, y_train)"
      ],
      "execution_count": 0,
      "outputs": [
        {
          "output_type": "execute_result",
          "data": {
            "text/plain": [
              "RandomForestRegressor(bootstrap=True, ccp_alpha=0.0, criterion='mse',\n",
              "                      max_depth=None, max_features='auto', max_leaf_nodes=None,\n",
              "                      max_samples=None, min_impurity_decrease=0.0,\n",
              "                      min_impurity_split=None, min_samples_leaf=1,\n",
              "                      min_samples_split=2, min_weight_fraction_leaf=0.0,\n",
              "                      n_estimators=100, n_jobs=None, oob_score=False,\n",
              "                      random_state=0, verbose=0, warm_start=False)"
            ]
          },
          "metadata": {
            "tags": []
          },
          "execution_count": 91
        }
      ]
    },
    {
      "cell_type": "code",
      "metadata": {
        "id": "tr_O-RkOy1tC",
        "colab_type": "code",
        "colab": {}
      },
      "source": [
        "y_pred = regressor.predict(x_test)"
      ],
      "execution_count": 0,
      "outputs": []
    },
    {
      "cell_type": "code",
      "metadata": {
        "id": "QM90wUVK81no",
        "colab_type": "code",
        "outputId": "d6193b8a-f315-40e4-809c-92dd92b2ea0f",
        "colab": {
          "base_uri": "https://localhost:8080/",
          "height": 70
        }
      },
      "source": [
        "from sklearn import metrics\n",
        "import numpy as np\n",
        "print('MSE',metrics.mean_squared_error([y_test], [y_pred]))\n",
        "print('MAE',metrics.median_absolute_error([y_test],[y_pred]))\n",
        "print('RMSE',np.sqrt(metrics.mean_squared_error([y_test],[y_pred])))"
      ],
      "execution_count": 0,
      "outputs": [
        {
          "output_type": "stream",
          "text": [
            "MSE 5590.314343837738\n",
            "MAE 28.188051521119\n",
            "RMSE 74.76840471641573\n"
          ],
          "name": "stdout"
        }
      ]
    },
    {
      "cell_type": "markdown",
      "metadata": {
        "id": "6_vXQRMNkh63",
        "colab_type": "text"
      },
      "source": [
        "#Replacing missing values by simpleimpuer"
      ]
    },
    {
      "cell_type": "code",
      "metadata": {
        "id": "H48Qpo49kfH4",
        "colab_type": "code",
        "colab": {}
      },
      "source": [
        "area_type_mapper = dict(zip([i for i in train.area_type.unique().tolist() if str(i) != 'nan'],[i for i in range(len(train.area_type.unique().tolist()))]))\n",
        "availability_mapper = dict(zip([i for i in train.availability.unique().tolist() if str(i) != 'nan'],[i for i in range(len(train.availability.unique().tolist()))]))\n",
        "location_mapper = dict(zip([i for i in train.location.unique().tolist() if str(i) != 'nan'],[i for i in range(len(train.location.unique().tolist()))]))\n",
        "train = train.replace(area_type_mapper)\n",
        "train = train.replace(availability_mapper)\n",
        "train = train.replace(location_mapper)"
      ],
      "execution_count": 0,
      "outputs": []
    },
    {
      "cell_type": "code",
      "metadata": {
        "id": "3DiwfXFYn5_v",
        "colab_type": "code",
        "colab": {}
      },
      "source": [
        "train.location = train.location.astype('category')\n",
        "train['size'] = train['size'].astype('category')\n",
        "train.bath = train.bath.astype('object')\n",
        "train.balcony = train.balcony.astype('category')"
      ],
      "execution_count": 0,
      "outputs": []
    },
    {
      "cell_type": "code",
      "metadata": {
        "id": "bXvmpcIS-W4S",
        "colab_type": "code",
        "outputId": "3f5d5f92-f12f-42e2-f29a-9d8d14f69a20",
        "colab": {
          "base_uri": "https://localhost:8080/",
          "height": 141
        }
      },
      "source": [
        "from sklearn.impute import SimpleImputer\n",
        "\n",
        "imputer = SimpleImputer(missing_values= np.nan, strategy='mean')\n",
        "imputed_training= imputer.fit_transform(train.values)\n",
        "print(imputed_training)\n"
      ],
      "execution_count": 0,
      "outputs": [
        {
          "output_type": "stream",
          "text": [
            "[[  0.     0.     0.   ...   2.     1.    39.07]\n",
            " [  1.     1.     1.   ...   5.     3.   120.  ]\n",
            " [  2.     1.     2.   ...   2.     3.    62.  ]\n",
            " ...\n",
            " [  2.     1.    15.   ...   2.     1.    60.  ]\n",
            " [  0.     0.   128.   ...   4.     1.   488.  ]\n",
            " [  0.     1.    37.   ...   1.     1.    17.  ]]\n"
          ],
          "name": "stdout"
        }
      ]
    },
    {
      "cell_type": "code",
      "metadata": {
        "id": "PXLYvzd2d-3X",
        "colab_type": "code",
        "colab": {}
      },
      "source": [
        "not_null_data = pd.DataFrame(imputed_training,columns= train.columns)"
      ],
      "execution_count": 0,
      "outputs": []
    },
    {
      "cell_type": "code",
      "metadata": {
        "id": "xIXektyieGGe",
        "colab_type": "code",
        "outputId": "90da38ae-4850-4bf2-e685-e3b290fbefba",
        "colab": {
          "base_uri": "https://localhost:8080/",
          "height": 390
        }
      },
      "source": [
        "#problem with SimpleImputer is that it treats every variable as continuous and dosent give categorical output\n",
        "not_null_data.bath.value_counts()"
      ],
      "execution_count": 0,
      "outputs": [
        {
          "output_type": "execute_result",
          "data": {
            "text/plain": [
              "2.00000     6908\n",
              "3.00000     3286\n",
              "4.00000     1226\n",
              "1.00000      788\n",
              "5.00000      524\n",
              "6.00000      273\n",
              "7.00000      102\n",
              "2.69261       73\n",
              "8.00000       64\n",
              "9.00000       43\n",
              "10.00000      13\n",
              "12.00000       7\n",
              "11.00000       3\n",
              "13.00000       3\n",
              "16.00000       2\n",
              "27.00000       1\n",
              "40.00000       1\n",
              "15.00000       1\n",
              "18.00000       1\n",
              "14.00000       1\n",
              "Name: bath, dtype: int64"
            ]
          },
          "metadata": {
            "tags": []
          },
          "execution_count": 98
        }
      ]
    },
    {
      "cell_type": "markdown",
      "metadata": {
        "id": "6SKHPD23wVbP",
        "colab_type": "text"
      },
      "source": [
        "#Replacing missing values by group mod and Randomforest\n",
        "\n",
        "\n"
      ]
    },
    {
      "cell_type": "code",
      "metadata": {
        "id": "ZLkB795Ry6kB",
        "colab_type": "code",
        "outputId": "1f91e9f0-9211-4152-d99c-78e19882613a",
        "colab": {
          "base_uri": "https://localhost:8080/",
          "height": 633
        }
      },
      "source": [
        "#visualisation\n",
        "import seaborn as sns\n",
        "plt.figure(figsize=(20, 10))\n",
        "sns.boxplot(y = train.total_sqft, x= train['size'])"
      ],
      "execution_count": 0,
      "outputs": [
        {
          "output_type": "execute_result",
          "data": {
            "text/plain": [
              "<matplotlib.axes._subplots.AxesSubplot at 0x7f65f77cccf8>"
            ]
          },
          "metadata": {
            "tags": []
          },
          "execution_count": 99
        },
        {
          "output_type": "display_data",
          "data": {
            "image/png": "[encoded data removed]",
            "text/plain": [
              "<Figure size 1440x720 with 1 Axes>"
            ]
          },
          "metadata": {
            "tags": [],
            "needs_background": "light"
          }
        }
      ]
    },
    {
      "cell_type": "code",
      "metadata": {
        "id": "KPlk1k-VeMSX",
        "colab_type": "code",
        "outputId": "b6dabde9-b4c6-4f2c-dab7-c4d6fc738a97",
        "colab": {
          "base_uri": "https://localhost:8080/",
          "height": 406
        }
      },
      "source": [
        "#impute bhk by tsqft\n",
        "#bath by bhk\n",
        "#balcony by bhk\n",
        "train1"
      ],
      "execution_count": 0,
      "outputs": [
        {
          "output_type": "execute_result",
          "data": {
            "text/html": [
              "<div>\n",
              "<style scoped>\n",
              "    .dataframe tbody tr th:only-of-type {\n",
              "        vertical-align: middle;\n",
              "    }\n",
              "\n",
              "    .dataframe tbody tr th {\n",
              "        vertical-align: top;\n",
              "    }\n",
              "\n",
              "    .dataframe thead th {\n",
              "        text-align: right;\n",
              "    }\n",
              "</style>\n",
              "<table border=\"1\" class=\"dataframe\">\n",
              "  <thead>\n",
              "    <tr style=\"text-align: right;\">\n",
              "      <th></th>\n",
              "      <th>area_type</th>\n",
              "      <th>availability</th>\n",
              "      <th>location</th>\n",
              "      <th>size</th>\n",
              "      <th>total_sqft</th>\n",
              "      <th>bath</th>\n",
              "      <th>balcony</th>\n",
              "      <th>price</th>\n",
              "    </tr>\n",
              "  </thead>\n",
              "  <tbody>\n",
              "    <tr>\n",
              "      <th>0</th>\n",
              "      <td>Super built-up  Area</td>\n",
              "      <td>Not ready to move</td>\n",
              "      <td>Electronic City Phase II</td>\n",
              "      <td>2.0</td>\n",
              "      <td>1056.0</td>\n",
              "      <td>2.0</td>\n",
              "      <td>1.0</td>\n",
              "      <td>39.07</td>\n",
              "    </tr>\n",
              "    <tr>\n",
              "      <th>1</th>\n",
              "      <td>Plot  Area</td>\n",
              "      <td>Ready To Move</td>\n",
              "      <td>Chikka Tirupathi</td>\n",
              "      <td>4.0</td>\n",
              "      <td>2600.0</td>\n",
              "      <td>5.0</td>\n",
              "      <td>3.0</td>\n",
              "      <td>120.00</td>\n",
              "    </tr>\n",
              "    <tr>\n",
              "      <th>2</th>\n",
              "      <td>Built-up  Area</td>\n",
              "      <td>Ready To Move</td>\n",
              "      <td>Uttarahalli</td>\n",
              "      <td>3.0</td>\n",
              "      <td>1440.0</td>\n",
              "      <td>2.0</td>\n",
              "      <td>3.0</td>\n",
              "      <td>62.00</td>\n",
              "    </tr>\n",
              "    <tr>\n",
              "      <th>3</th>\n",
              "      <td>Super built-up  Area</td>\n",
              "      <td>Ready To Move</td>\n",
              "      <td>Lingadheeranahalli</td>\n",
              "      <td>3.0</td>\n",
              "      <td>1521.0</td>\n",
              "      <td>3.0</td>\n",
              "      <td>1.0</td>\n",
              "      <td>95.00</td>\n",
              "    </tr>\n",
              "    <tr>\n",
              "      <th>4</th>\n",
              "      <td>Super built-up  Area</td>\n",
              "      <td>Ready To Move</td>\n",
              "      <td>Kothanur</td>\n",
              "      <td>2.0</td>\n",
              "      <td>1200.0</td>\n",
              "      <td>2.0</td>\n",
              "      <td>1.0</td>\n",
              "      <td>51.00</td>\n",
              "    </tr>\n",
              "    <tr>\n",
              "      <th>...</th>\n",
              "      <td>...</td>\n",
              "      <td>...</td>\n",
              "      <td>...</td>\n",
              "      <td>...</td>\n",
              "      <td>...</td>\n",
              "      <td>...</td>\n",
              "      <td>...</td>\n",
              "      <td>...</td>\n",
              "    </tr>\n",
              "    <tr>\n",
              "      <th>13315</th>\n",
              "      <td>Built-up  Area</td>\n",
              "      <td>Ready To Move</td>\n",
              "      <td>Whitefield</td>\n",
              "      <td>5.0</td>\n",
              "      <td>3453.0</td>\n",
              "      <td>4.0</td>\n",
              "      <td>0.0</td>\n",
              "      <td>231.00</td>\n",
              "    </tr>\n",
              "    <tr>\n",
              "      <th>13316</th>\n",
              "      <td>Super built-up  Area</td>\n",
              "      <td>Ready To Move</td>\n",
              "      <td>Richards Town</td>\n",
              "      <td>4.0</td>\n",
              "      <td>3600.0</td>\n",
              "      <td>5.0</td>\n",
              "      <td>NaN</td>\n",
              "      <td>400.00</td>\n",
              "    </tr>\n",
              "    <tr>\n",
              "      <th>13317</th>\n",
              "      <td>Built-up  Area</td>\n",
              "      <td>Ready To Move</td>\n",
              "      <td>Raja Rajeshwari Nagar</td>\n",
              "      <td>2.0</td>\n",
              "      <td>1141.0</td>\n",
              "      <td>2.0</td>\n",
              "      <td>1.0</td>\n",
              "      <td>60.00</td>\n",
              "    </tr>\n",
              "    <tr>\n",
              "      <th>13318</th>\n",
              "      <td>Super built-up  Area</td>\n",
              "      <td>Not ready to move</td>\n",
              "      <td>Padmanabhanagar</td>\n",
              "      <td>4.0</td>\n",
              "      <td>4689.0</td>\n",
              "      <td>4.0</td>\n",
              "      <td>1.0</td>\n",
              "      <td>488.00</td>\n",
              "    </tr>\n",
              "    <tr>\n",
              "      <th>13319</th>\n",
              "      <td>Super built-up  Area</td>\n",
              "      <td>Ready To Move</td>\n",
              "      <td>Doddathoguru</td>\n",
              "      <td>1.0</td>\n",
              "      <td>550.0</td>\n",
              "      <td>1.0</td>\n",
              "      <td>1.0</td>\n",
              "      <td>17.00</td>\n",
              "    </tr>\n",
              "  </tbody>\n",
              "</table>\n",
              "<p>13320 rows × 8 columns</p>\n",
              "</div>"
            ],
            "text/plain": [
              "                  area_type       availability  ... balcony   price\n",
              "0      Super built-up  Area  Not ready to move  ...     1.0   39.07\n",
              "1                Plot  Area      Ready To Move  ...     3.0  120.00\n",
              "2            Built-up  Area      Ready To Move  ...     3.0   62.00\n",
              "3      Super built-up  Area      Ready To Move  ...     1.0   95.00\n",
              "4      Super built-up  Area      Ready To Move  ...     1.0   51.00\n",
              "...                     ...                ...  ...     ...     ...\n",
              "13315        Built-up  Area      Ready To Move  ...     0.0  231.00\n",
              "13316  Super built-up  Area      Ready To Move  ...     NaN  400.00\n",
              "13317        Built-up  Area      Ready To Move  ...     1.0   60.00\n",
              "13318  Super built-up  Area  Not ready to move  ...     1.0  488.00\n",
              "13319  Super built-up  Area      Ready To Move  ...     1.0   17.00\n",
              "\n",
              "[13320 rows x 8 columns]"
            ]
          },
          "metadata": {
            "tags": []
          },
          "execution_count": 100
        }
      ]
    },
    {
      "cell_type": "code",
      "metadata": {
        "id": "6Usa3tnQwacW",
        "colab_type": "code",
        "colab": {}
      },
      "source": [
        "def size_imputer(x):\n",
        "  if str(x['size']) == 'nan':\n",
        "    if x.total_sqft <= 1000:\n",
        "      return 1\n",
        "    elif x.total_sqft <= 1500:\n",
        "      return 2\n",
        "    elif x.total_sqft <= 2000:\n",
        "      return 3\n",
        "    elif x.total_sqft <= 2500:\n",
        "      return 4\n",
        "    elif x.total_sqft <= 3000:\n",
        "      return 5\n",
        "    elif x.total_sqft <= 3500:\n",
        "      return 6\n",
        "    elif x.total_sqft <= 4000:\n",
        "      return 7\n",
        "    elif x.total_sqft <= 4500:\n",
        "      return 8\n",
        "    elif x.total_sqft <= 5000:\n",
        "      return 9\n",
        "  else:\n",
        "    return x['size']"
      ],
      "execution_count": 0,
      "outputs": []
    },
    {
      "cell_type": "code",
      "metadata": {
        "id": "yM6zHPDRkD0s",
        "colab_type": "code",
        "colab": {}
      },
      "source": [
        "train1['size'] = train1.apply(lambda x: size_imputer(x),axis=1)"
      ],
      "execution_count": 0,
      "outputs": []
    },
    {
      "cell_type": "code",
      "metadata": {
        "id": "JbI46llgx6bO",
        "colab_type": "code",
        "colab": {}
      },
      "source": [
        "train_bath_mode = train1.groupby(by='size')['bath'].agg(lambda x:x.value_counts().index[0])\n",
        "train_bath_mode\n",
        "def bath_imputer(x):\n",
        "  if str(x['bath']) == 'nan':\n",
        "    return train_bath_mode[x['size']]\n",
        "  else:\n",
        "    return x['bath']"
      ],
      "execution_count": 0,
      "outputs": []
    },
    {
      "cell_type": "code",
      "metadata": {
        "id": "XVuL8pVmwH4t",
        "colab_type": "code",
        "colab": {}
      },
      "source": [
        "#train['bath'] = train.apply(lambda x: bath_imputer(x),axis=1)\n",
        "train_bath_mode = train1.groupby(by='size')['bath'].agg(lambda x:x.value_counts().index[0])"
      ],
      "execution_count": 0,
      "outputs": []
    },
    {
      "cell_type": "code",
      "metadata": {
        "id": "hQd1jWEH66V_",
        "colab_type": "code",
        "colab": {}
      },
      "source": [
        "def b_not_null(x):\n",
        "  try:\n",
        "    return x.value_counts().index[0]\n",
        "  except:\n",
        "    return 0\n",
        "train_balcony_mode = train1.groupby(by='size')['balcony'].agg(lambda x:b_not_null(x))\n",
        "def balcony_imputer(x):\n",
        "  if str(x['balcony']) == 'nan':\n",
        "    return train_balcony_mode[x['size']]\n",
        "  else:\n",
        "    return x['balcony']\n",
        "train1['balcony'] = train1.apply(lambda x: balcony_imputer(x),axis=1)"
      ],
      "execution_count": 0,
      "outputs": []
    },
    {
      "cell_type": "code",
      "metadata": {
        "id": "OZnbS-9f7l_p",
        "colab_type": "code",
        "colab": {}
      },
      "source": [
        "train1.dropna(axis=0,inplace= True)\n",
        "train1.total_sqft = train1.total_sqft.apply(lambda x : x/(train.total_sqft.max()-train.total_sqft.min()))"
      ],
      "execution_count": 0,
      "outputs": []
    },
    {
      "cell_type": "code",
      "metadata": {
        "id": "dfhEFm4pzVo8",
        "colab_type": "code",
        "colab": {}
      },
      "source": [
        "train_dummy1 = pd.get_dummies(train1,columns=['area_type','availability','location','size','balcony','bath'])"
      ],
      "execution_count": 0,
      "outputs": []
    },
    {
      "cell_type": "code",
      "metadata": {
        "id": "6ngoaSzk3RTp",
        "colab_type": "code",
        "colab": {}
      },
      "source": [
        "X = train_dummy1.drop(columns= 'price')\n",
        "Y = train_dummy1.price"
      ],
      "execution_count": 0,
      "outputs": []
    },
    {
      "cell_type": "code",
      "metadata": {
        "id": "8fMRqm5R1jZk",
        "colab_type": "code",
        "outputId": "f15b7e16-5aa7-4398-b100-bc7b36d927da",
        "colab": {
          "base_uri": "https://localhost:8080/",
          "height": 141
        }
      },
      "source": [
        "from sklearn.model_selection import train_test_split #To split the data we use train_test_split function\n",
        "x_train, x_test, y_train, y_test = train_test_split(X, Y, test_size=0.2, random_state=7)\n",
        "# Fitting Random Forest Regression to the dataset \n",
        "# import the regressor \n",
        "from sklearn.ensemble import RandomForestRegressor \n",
        "  \n",
        "# create regressor object \n",
        "regressor = RandomForestRegressor(n_estimators = 100, random_state = 0) \n",
        "  \n",
        "# fit the regressor with x and y data \n",
        "regressor.fit(x_train, y_train)"
      ],
      "execution_count": 0,
      "outputs": [
        {
          "output_type": "execute_result",
          "data": {
            "text/plain": [
              "RandomForestRegressor(bootstrap=True, ccp_alpha=0.0, criterion='mse',\n",
              "                      max_depth=None, max_features='auto', max_leaf_nodes=None,\n",
              "                      max_samples=None, min_impurity_decrease=0.0,\n",
              "                      min_impurity_split=None, min_samples_leaf=1,\n",
              "                      min_samples_split=2, min_weight_fraction_leaf=0.0,\n",
              "                      n_estimators=100, n_jobs=None, oob_score=False,\n",
              "                      random_state=0, verbose=0, warm_start=False)"
            ]
          },
          "metadata": {
            "tags": []
          },
          "execution_count": 109
        }
      ]
    },
    {
      "cell_type": "code",
      "metadata": {
        "id": "qzWXrmLO1_LG",
        "colab_type": "code",
        "outputId": "db206a6e-d6c4-4520-f28b-60eb774d2035",
        "colab": {
          "base_uri": "https://localhost:8080/",
          "height": 70
        }
      },
      "source": [
        "y_pred = regressor.predict(x_test)\n",
        "from sklearn import metrics\n",
        "import numpy as np\n",
        "print('MSE',metrics.mean_squared_error([y_test], [y_pred]))\n",
        "print('MAE',metrics.median_absolute_error([y_test],[y_pred]))\n",
        "print('RMSE',np.sqrt(metrics.mean_squared_error([y_test],[y_pred])))"
      ],
      "execution_count": 0,
      "outputs": [
        {
          "output_type": "stream",
          "text": [
            "MSE 6846.246801179681\n",
            "MAE 29.379187942424764\n",
            "RMSE 82.74204977627568\n"
          ],
          "name": "stdout"
        }
      ]
    },
    {
      "cell_type": "code",
      "metadata": {
        "id": "jLZ46fl63E4f",
        "colab_type": "code",
        "outputId": "9b4aa015-12a3-48cc-e862-b647cb10f7d3",
        "colab": {
          "base_uri": "https://localhost:8080/",
          "height": 336
        }
      },
      "source": [
        "#miss forest approach\n",
        "\n",
        "!pip install DistributedMissForest\n",
        "!pip install missingpy"
      ],
      "execution_count": 0,
      "outputs": [
        {
          "output_type": "stream",
          "text": [
            "Collecting DistributedMissForest\n",
            "  Downloading https://files.pythonhosted.org/packages/8e/ac/e5aa7b390ccab16e7ce3da0f522d679affcb4737002944278f30563336ca/DistributedMissForest-1.4.tar.gz\n",
            "Requirement already satisfied: numpy in /usr/local/lib/python3.6/dist-packages (from DistributedMissForest) (1.18.2)\n",
            "Requirement already satisfied: scikit-learn in /usr/local/lib/python3.6/dist-packages (from DistributedMissForest) (0.22.2.post1)\n",
            "Requirement already satisfied: scipy>=0.17.0 in /usr/local/lib/python3.6/dist-packages (from scikit-learn->DistributedMissForest) (1.4.1)\n",
            "Requirement already satisfied: joblib>=0.11 in /usr/local/lib/python3.6/dist-packages (from scikit-learn->DistributedMissForest) (0.14.1)\n",
            "Building wheels for collected packages: DistributedMissForest\n",
            "  Building wheel for DistributedMissForest (setup.py) ... \u001b[?25l\u001b[?25hdone\n",
            "  Created wheel for DistributedMissForest: filename=DistributedMissForest-1.4-cp36-none-any.whl size=17489 sha256=f11b424edf60e5afad8f1ccdbe009d7979c37f9f4f51b2f4d99565702ed186eb\n",
            "  Stored in directory: /root/.cache/pip/wheels/85/d2/cb/99da0c787e5504f3023725d22aa450dcb4fc5f544fb6410d51\n",
            "Successfully built DistributedMissForest\n",
            "Installing collected packages: DistributedMissForest\n",
            "Successfully installed DistributedMissForest-1.4\n",
            "Collecting missingpy\n",
            "\u001b[?25l  Downloading https://files.pythonhosted.org/packages/b5/be/998d04d27054b58f0974b5f09f8457778a0a72d4355e0b7ae877b6cfb850/missingpy-0.2.0-py3-none-any.whl (49kB)\n",
            "\u001b[K     |████████████████████████████████| 51kB 1.6MB/s \n",
            "\u001b[?25hInstalling collected packages: missingpy\n",
            "Successfully installed missingpy-0.2.0\n"
          ],
          "name": "stdout"
        }
      ]
    },
    {
      "cell_type": "code",
      "metadata": {
        "id": "FHtzoFE1XGyw",
        "colab_type": "code",
        "colab": {}
      },
      "source": [
        "import DistributedMissForest"
      ],
      "execution_count": 0,
      "outputs": []
    },
    {
      "cell_type": "code",
      "metadata": {
        "id": "W9PaXFG7VjCW",
        "colab_type": "code",
        "colab": {}
      },
      "source": [
        "for i in train.columns:\n",
        "  if i not in ['price','total_sqft']:\n",
        "    train[i] = train[i].astype('category')"
      ],
      "execution_count": 0,
      "outputs": []
    },
    {
      "cell_type": "code",
      "metadata": {
        "id": "AThO5Y9TdzlB",
        "colab_type": "code",
        "colab": {}
      },
      "source": [
        "train.drop(index=(train[train.location.isna()].index),inplace = True)"
      ],
      "execution_count": 0,
      "outputs": []
    },
    {
      "cell_type": "code",
      "metadata": {
        "id": "V0fqRCjMVpu7",
        "colab_type": "code",
        "outputId": "d6ffaeef-b18e-42b9-cf51-57bccaf38584",
        "colab": {
          "base_uri": "https://localhost:8080/",
          "height": 283
        }
      },
      "source": [
        "train.info()"
      ],
      "execution_count": 0,
      "outputs": [
        {
          "output_type": "stream",
          "text": [
            "<class 'pandas.core.frame.DataFrame'>\n",
            "Int64Index: 13319 entries, 0 to 13319\n",
            "Data columns (total 8 columns):\n",
            " #   Column        Non-Null Count  Dtype   \n",
            "---  ------        --------------  -----   \n",
            " 0   area_type     13319 non-null  category\n",
            " 1   availability  13319 non-null  category\n",
            " 2   location      13319 non-null  category\n",
            " 3   size          13303 non-null  category\n",
            " 4   total_sqft    13319 non-null  float64 \n",
            " 5   bath          13246 non-null  category\n",
            " 6   balcony       12710 non-null  category\n",
            " 7   price         13319 non-null  float64 \n",
            "dtypes: category(6), float64(2)\n",
            "memory usage: 455.4 KB\n"
          ],
          "name": "stdout"
        }
      ]
    },
    {
      "cell_type": "code",
      "metadata": {
        "id": "cNgEL-PYWRIZ",
        "colab_type": "code",
        "outputId": "4da111cb-979e-4778-e4cc-37991604def0",
        "colab": {
          "base_uri": "https://localhost:8080/",
          "height": 72
        }
      },
      "source": [
        "from missingpy import MissForest\n",
        "mf = MissForest()"
      ],
      "execution_count": 0,
      "outputs": [
        {
          "output_type": "stream",
          "text": [
            "/usr/local/lib/python3.6/dist-packages/sklearn/utils/deprecation.py:144: FutureWarning: The sklearn.neighbors.base module is  deprecated in version 0.22 and will be removed in version 0.24. The corresponding classes / functions should instead be imported from sklearn.neighbors. Anything that cannot be imported from sklearn.neighbors is now part of the private API.\n",
            "  warnings.warn(message, FutureWarning)\n"
          ],
          "name": "stderr"
        }
      ]
    },
    {
      "cell_type": "code",
      "metadata": {
        "id": "1zqiIgE_Whvl",
        "colab_type": "code",
        "colab": {}
      },
      "source": [
        "Xmis = train.values"
      ],
      "execution_count": 0,
      "outputs": []
    },
    {
      "cell_type": "code",
      "metadata": {
        "id": "uaucz3y0Yf5f",
        "colab_type": "code",
        "outputId": "d872150c-72d3-45f1-a0d4-c3aafafc3675",
        "colab": {
          "base_uri": "https://localhost:8080/",
          "height": 87
        }
      },
      "source": [
        "Ximp = mf.fit_transform(Xmis,cat_vars= [3,5,6])"
      ],
      "execution_count": 0,
      "outputs": [
        {
          "output_type": "stream",
          "text": [
            "Iteration: 0\n",
            "Iteration: 1\n",
            "Iteration: 2\n",
            "Iteration: 3\n"
          ],
          "name": "stdout"
        }
      ]
    },
    {
      "cell_type": "code",
      "metadata": {
        "id": "rkEiK3psYlw7",
        "colab_type": "code",
        "colab": {}
      },
      "source": [
        "nnuld = pd.DataFrame(Ximp, columns = train.columns)"
      ],
      "execution_count": 0,
      "outputs": []
    },
    {
      "cell_type": "code",
      "metadata": {
        "id": "87YZ3NtsYwz5",
        "colab_type": "code",
        "outputId": "6d44b116-0c89-412f-c230-c8644306be88",
        "colab": {
          "base_uri": "https://localhost:8080/",
          "height": 105
        }
      },
      "source": [
        ""
      ],
      "execution_count": 0,
      "outputs": [
        {
          "output_type": "execute_result",
          "data": {
            "text/plain": [
              "2.0    5425\n",
              "1.0    5001\n",
              "3.0    1830\n",
              "0.0    1063\n",
              "Name: balcony, dtype: int64"
            ]
          },
          "metadata": {
            "tags": []
          },
          "execution_count": 50
        }
      ]
    },
    {
      "cell_type": "code",
      "metadata": {
        "id": "0Vr3RahOY2Sg",
        "colab_type": "code",
        "outputId": "2fe1e232-1a9e-486f-e3f1-43c6583b9c14",
        "colab": {
          "base_uri": "https://localhost:8080/",
          "height": 176
        }
      },
      "source": [
        "nnuld.isna().sum()"
      ],
      "execution_count": 0,
      "outputs": [
        {
          "output_type": "execute_result",
          "data": {
            "text/plain": [
              "area_type       0\n",
              "availability    0\n",
              "location        0\n",
              "size            0\n",
              "total_sqft      0\n",
              "bath            0\n",
              "balcony         0\n",
              "price           0\n",
              "dtype: int64"
            ]
          },
          "metadata": {
            "tags": []
          },
          "execution_count": 61
        }
      ]
    },
    {
      "cell_type": "code",
      "metadata": {
        "id": "8tmfa6M2Z0Bs",
        "colab_type": "code",
        "colab": {}
      },
      "source": [
        "train_dummy1 = pd.get_dummies(nnuld,columns=['area_type','availability','location','size','balcony','bath'])"
      ],
      "execution_count": 0,
      "outputs": []
    },
    {
      "cell_type": "code",
      "metadata": {
        "id": "E4u5_ow-Z760",
        "colab_type": "code",
        "outputId": "bcfa719d-9454-4040-cadc-757d2b5829a5",
        "colab": {
          "base_uri": "https://localhost:8080/",
          "height": 141
        }
      },
      "source": [
        "X = train_dummy1.drop(columns= 'price')\n",
        "Y = train_dummy1.price\n",
        "from sklearn.model_selection import train_test_split #To split the data we use train_test_split function\n",
        "x_train, x_test, y_train, y_test = train_test_split(X, Y, test_size=0.2, random_state=7)\n",
        "# Fitting Random Forest Regression to the dataset \n",
        "# import the regressor \n",
        "from sklearn.ensemble import RandomForestRegressor \n",
        "  \n",
        "# create regressor object \n",
        "regressor = RandomForestRegressor(n_estimators = 100, random_state = 0) \n",
        "  \n",
        "# fit the regressor with x and y data \n",
        "regressor.fit(x_train, y_train)"
      ],
      "execution_count": 0,
      "outputs": [
        {
          "output_type": "execute_result",
          "data": {
            "text/plain": [
              "RandomForestRegressor(bootstrap=True, ccp_alpha=0.0, criterion='mse',\n",
              "                      max_depth=None, max_features='auto', max_leaf_nodes=None,\n",
              "                      max_samples=None, min_impurity_decrease=0.0,\n",
              "                      min_impurity_split=None, min_samples_leaf=1,\n",
              "                      min_samples_split=2, min_weight_fraction_leaf=0.0,\n",
              "                      n_estimators=100, n_jobs=None, oob_score=False,\n",
              "                      random_state=0, verbose=0, warm_start=False)"
            ]
          },
          "metadata": {
            "tags": []
          },
          "execution_count": 63
        }
      ]
    },
    {
      "cell_type": "code",
      "metadata": {
        "id": "MUL_VQYxel24",
        "colab_type": "code",
        "outputId": "f76bb7ac-902a-4ce9-d0e4-7e8438432340",
        "colab": {
          "base_uri": "https://localhost:8080/",
          "height": 70
        }
      },
      "source": [
        "y_pred = regressor.predict(x_test)\n",
        "from sklearn import metrics\n",
        "import numpy as np\n",
        "print('MSE',metrics.mean_squared_error([y_test], [y_pred]))\n",
        "print('MAE',metrics.median_absolute_error([y_test],[y_pred]))\n",
        "print('RMSE',np.sqrt(metrics.mean_squared_error([y_test],[y_pred])))"
      ],
      "execution_count": 0,
      "outputs": [
        {
          "output_type": "stream",
          "text": [
            "MSE 9172.16738625892\n",
            "MAE 29.46296679054958\n",
            "RMSE 95.77143303855759\n"
          ],
          "name": "stdout"
        }
      ]
    },
    {
      "cell_type": "code",
      "metadata": {
        "id": "0uqklWKwey2n",
        "colab_type": "code",
        "colab": {}
      },
      "source": [
        "a = train.groupby('location')['price'].mean()"
      ],
      "execution_count": 0,
      "outputs": []
    },
    {
      "cell_type": "code",
      "metadata": {
        "id": "_k7hAW1T-j38",
        "colab_type": "code",
        "outputId": "ce5bb797-d4fc-46dc-9853-b27a2cfbd8ec",
        "colab": {
          "base_uri": "https://localhost:8080/",
          "height": 480
        }
      },
      "source": [
        "import seaborn as sns\n",
        "import matplotlib.pyplot as plt\n",
        "plt.figure(figsize=(30, 10))\n",
        "sns.barplot(x = a.sort_values().index,y=a.sort_values())"
      ],
      "execution_count": 0,
      "outputs": [
        {
          "output_type": "execute_result",
          "data": {
            "text/plain": [
              "<matplotlib.axes._subplots.AxesSubplot at 0x7f65f08dad68>"
            ]
          },
          "metadata": {
            "tags": []
          },
          "execution_count": 52
        },
        {
          "output_type": "display_data",
          "data": {
            "image/png": "[encoded data removed]",
            "text/plain": [
              "<Figure size 2160x720 with 1 Axes>"
            ]
          },
          "metadata": {
            "tags": [],
            "needs_background": "light"
          }
        }
      ]
    },
    {
      "cell_type": "markdown",
      "metadata": {
        "id": "zXAuzC5FOVkB",
        "colab_type": "text"
      },
      "source": [
        "# Droping NA values"
      ]
    },
    {
      "cell_type": "code",
      "metadata": {
        "id": "9-Mbb7KCGb5i",
        "colab_type": "code",
        "colab": {}
      },
      "source": [
        "train2.dropna(axis = 0 , inplace= True)"
      ],
      "execution_count": 0,
      "outputs": []
    },
    {
      "cell_type": "code",
      "metadata": {
        "id": "eWEthEwx_MhC",
        "colab_type": "code",
        "outputId": "107baefb-2558-44b6-a46a-25f5301f9d11",
        "colab": {
          "base_uri": "https://localhost:8080/",
          "height": 141
        }
      },
      "source": [
        "train_dummy1 = pd.get_dummies(train2,columns=['area_type','availability','location','size','balcony','bath'])\n",
        "X = train_dummy1.drop(columns= 'price')\n",
        "Y = train_dummy1.price\n",
        "from sklearn.model_selection import train_test_split #To split the data we use train_test_split function\n",
        "x_train, x_test, y_train, y_test = train_test_split(X, Y, test_size=0.2, random_state=7)\n",
        "# Fitting Random Forest Regression to the dataset \n",
        "# import the regressor \n",
        "from sklearn.ensemble import RandomForestRegressor \n",
        "  \n",
        "# create regressor object \n",
        "regressor = RandomForestRegressor(n_estimators = 100, random_state = 0) \n",
        "  \n",
        "# fit the regressor with x and y data \n",
        "regressor.fit(x_train, y_train)"
      ],
      "execution_count": 0,
      "outputs": [
        {
          "output_type": "execute_result",
          "data": {
            "text/plain": [
              "RandomForestRegressor(bootstrap=True, ccp_alpha=0.0, criterion='mse',\n",
              "                      max_depth=None, max_features='auto', max_leaf_nodes=None,\n",
              "                      max_samples=None, min_impurity_decrease=0.0,\n",
              "                      min_impurity_split=None, min_samples_leaf=1,\n",
              "                      min_samples_split=2, min_weight_fraction_leaf=0.0,\n",
              "                      n_estimators=100, n_jobs=None, oob_score=False,\n",
              "                      random_state=0, verbose=0, warm_start=False)"
            ]
          },
          "metadata": {
            "tags": []
          },
          "execution_count": 121
        }
      ]
    },
    {
      "cell_type": "code",
      "metadata": {
        "id": "ymbmSOXiGkWi",
        "colab_type": "code",
        "outputId": "b295e363-667f-4ccf-9cce-826f6ce36f17",
        "colab": {
          "base_uri": "https://localhost:8080/",
          "height": 70
        }
      },
      "source": [
        "y_pred = regressor.predict(x_test)\n",
        "from sklearn import metrics\n",
        "import numpy as np\n",
        "print('MSE',metrics.mean_squared_error([y_test], [y_pred]))\n",
        "print('MAE',metrics.median_absolute_error([y_test],[y_pred]))\n",
        "print('RMSE',np.sqrt(metrics.mean_squared_error([y_test],[y_pred])))"
      ],
      "execution_count": 0,
      "outputs": [
        {
          "output_type": "stream",
          "text": [
            "MSE 7867.383983649313\n",
            "MAE 28.762764930383156\n",
            "RMSE 88.6982749756122\n"
          ],
          "name": "stdout"
        }
      ]
    },
    {
      "cell_type": "markdown",
      "metadata": {
        "id": "supdfrYXOb6X",
        "colab_type": "text"
      },
      "source": [
        "# Replacing NA values by mode\n"
      ]
    },
    {
      "cell_type": "code",
      "metadata": {
        "id": "gytN8bSNGxSl",
        "colab_type": "code",
        "outputId": "776f45c0-481b-4aa8-ced4-7f987d39e8bf",
        "colab": {
          "base_uri": "https://localhost:8080/",
          "height": 176
        }
      },
      "source": [
        "train3.isna().sum()"
      ],
      "execution_count": 0,
      "outputs": [
        {
          "output_type": "execute_result",
          "data": {
            "text/plain": [
              "area_type         0\n",
              "availability      0\n",
              "location          1\n",
              "size             16\n",
              "total_sqft        0\n",
              "bath             73\n",
              "balcony         609\n",
              "price             0\n",
              "dtype: int64"
            ]
          },
          "metadata": {
            "tags": []
          },
          "execution_count": 29
        }
      ]
    },
    {
      "cell_type": "code",
      "metadata": {
        "id": "RrrItDYgPHeE",
        "colab_type": "code",
        "colab": {}
      },
      "source": [
        "def mod_replacer_size(x):\n",
        "  if str(x) == 'nan':\n",
        "    return train3['size'].value_counts().index[0]\n",
        "  else:\n",
        "    return x\n",
        "\n",
        "def mod_replacer_bath(x):\n",
        "  if str(x) == 'nan':\n",
        "    return train3['bath'].value_counts().index[0]\n",
        "  else:\n",
        "    return x\n",
        "def mod_replacer_balcony(x):\n",
        "  if str(x) == 'nan':\n",
        "    return train3['balcony'].value_counts().index[0]\n",
        "  else:\n",
        "    return x"
      ],
      "execution_count": 0,
      "outputs": []
    },
    {
      "cell_type": "code",
      "metadata": {
        "id": "bUHDDrHRJQ4a",
        "colab_type": "code",
        "colab": {}
      },
      "source": [
        "train3['size'] = train3['size'].apply(lambda x : mod_replacer_size(x))\n",
        "train3['bath'] = train3['bath'].apply(lambda x : mod_replacer_bath(x))\n",
        "train3['balcony'] = train3['balcony'].apply(lambda x : mod_replacer_balcony(x))\n",
        "train3['p/sqft'] = train3['price'] / train3['total_sqft']"
      ],
      "execution_count": 0,
      "outputs": []
    },
    {
      "cell_type": "code",
      "metadata": {
        "id": "tSjx-FAnQPU6",
        "colab_type": "code",
        "outputId": "2c0498b2-d55a-4ccb-c5ae-e52db112e8bb",
        "colab": {
          "base_uri": "https://localhost:8080/",
          "height": 141
        }
      },
      "source": [
        "train_dummy1 = pd.get_dummies(train3,columns=['area_type','availability','location','size','balcony','bath'])\n",
        "X = train_dummy1.drop(columns= ['price','p/sqft'])\n",
        "Y = train_dummy1.price\n",
        "from sklearn.model_selection import train_test_split #To split the data we use train_test_split function\n",
        "x_train, x_test, y_train, y_test = train_test_split(X, Y, test_size=0.2, random_state=7)\n",
        "# Fitting Random Forest Regression to the dataset \n",
        "# import the regressor \n",
        "from sklearn.ensemble import RandomForestRegressor \n",
        "  \n",
        "# create regressor object \n",
        "regressor = RandomForestRegressor(n_estimators = 100, random_state = 0) \n",
        "  \n",
        "# fit the regressor with x and y data \n",
        "regressor.fit(x_train, y_train)"
      ],
      "execution_count": 0,
      "outputs": [
        {
          "output_type": "execute_result",
          "data": {
            "text/plain": [
              "RandomForestRegressor(bootstrap=True, ccp_alpha=0.0, criterion='mse',\n",
              "                      max_depth=None, max_features='auto', max_leaf_nodes=None,\n",
              "                      max_samples=None, min_impurity_decrease=0.0,\n",
              "                      min_impurity_split=None, min_samples_leaf=1,\n",
              "                      min_samples_split=2, min_weight_fraction_leaf=0.0,\n",
              "                      n_estimators=100, n_jobs=None, oob_score=False,\n",
              "                      random_state=0, verbose=0, warm_start=False)"
            ]
          },
          "metadata": {
            "tags": []
          },
          "execution_count": 39
        }
      ]
    },
    {
      "cell_type": "code",
      "metadata": {
        "id": "cK174dZ9QfG6",
        "colab_type": "code",
        "outputId": "d26ce913-daa9-4921-974d-98f1cbada0de",
        "colab": {
          "base_uri": "https://localhost:8080/",
          "height": 70
        }
      },
      "source": [
        "y_pred = regressor.predict(x_test)\n",
        "from sklearn import metrics\n",
        "import numpy as np\n",
        "print('MSE',metrics.mean_squared_error([y_test], [y_pred]))\n",
        "print('MAE',metrics.median_absolute_error([y_test],[y_pred]))\n",
        "print('RMSE',np.sqrt(metrics.mean_squared_error([y_test],[y_pred])))"
      ],
      "execution_count": 0,
      "outputs": [
        {
          "output_type": "stream",
          "text": [
            "MSE 5516.489484710133\n",
            "MAE 28.141133808931613\n",
            "RMSE 74.27307375294315\n"
          ],
          "name": "stdout"
        }
      ]
    },
    {
      "cell_type": "code",
      "metadata": {
        "id": "IppIL_8OQtoZ",
        "colab_type": "code",
        "outputId": "5c5bf309-bbd2-4f65-90ca-5b6883ffb247",
        "colab": {
          "base_uri": "https://localhost:8080/",
          "height": 176
        }
      },
      "source": [
        "import xgboost as xgb\n",
        "params = {}\n",
        "params['eval_metric'] = 'logloss'\n",
        "params['eta'] = 0.02\n",
        "\n",
        "d_train = xgb.DMatrix(x_train, label=y_train)\n",
        "d_test = xgb.DMatrix(x_test, label=y_test)\n",
        "\n",
        "watchlist = [(d_train, 'train'), (d_test, 'valid')]\n",
        "\n",
        "bst = xgb.train(params, d_train, 400, watchlist, early_stopping_rounds=20, verbose_eval=10)\n",
        "\n",
        "xgdmat = xgb.DMatrix(x_train,y_train)\n",
        "predict_y = bst.predict(d_test)"
      ],
      "execution_count": 0,
      "outputs": [
        {
          "output_type": "stream",
          "text": [
            "[0]\ttrain-logloss:-4152.81\tvalid-logloss:-3939.01\n",
            "Multiple eval metrics have been passed: 'valid-logloss' will be used for early stopping.\n",
            "\n",
            "Will train until valid-logloss hasn't improved in 20 rounds.\n",
            "[10]\ttrain-logloss:-4153.03\tvalid-logloss:-3939.01\n",
            "[20]\ttrain-logloss:-4153.03\tvalid-logloss:-3939.01\n",
            "Stopping. Best iteration:\n",
            "[0]\ttrain-logloss:-4152.81\tvalid-logloss:-3939.01\n",
            "\n"
          ],
          "name": "stdout"
        }
      ]
    },
    {
      "cell_type": "code",
      "metadata": {
        "id": "V3wlX4YaRUBN",
        "colab_type": "code",
        "outputId": "f78dc3a2-7858-453b-bd28-8b72dbc08346",
        "colab": {
          "base_uri": "https://localhost:8080/",
          "height": 70
        }
      },
      "source": [
        "watchlisty_pred = regressor.predict(x_test)\n",
        "from sklearn import metrics\n",
        "import numpy as np\n",
        "print('MSE',metrics.mean_squared_error([y_test], [predict_y]))\n",
        "print('MAE',metrics.median_absolute_error([y_test],[predict_y]))\n",
        "print('RMSE',np.sqrt(metrics.mean_squared_error([y_test],[predict_y])))"
      ],
      "execution_count": 0,
      "outputs": [
        {
          "output_type": "stream",
          "text": [
            "MSE 15024.169180146617\n",
            "MAE 70.45867683161487\n",
            "RMSE 122.57311768959218\n"
          ],
          "name": "stdout"
        }
      ]
    }
  ]
}